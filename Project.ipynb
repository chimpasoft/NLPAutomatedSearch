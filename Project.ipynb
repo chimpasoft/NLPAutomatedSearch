{
 "cells": [
  {
   "cell_type": "code",
   "execution_count": 82,
   "id": "79cd6f27",
   "metadata": {},
   "outputs": [
    {
     "name": "stdout",
     "output_type": "stream",
     "text": [
      "Libraries installed\n"
     ]
    }
   ],
   "source": [
    "import pandas as pd\n",
    "import numpy as np\n",
    "import nltk\n",
    "import spacy\n",
    "import torch\n",
    "from sklearn.feature_extraction.text import TfidfVectorizer\n",
    "from sklearn.metrics import precision_score, recall_score, f1_score as sklearn_f1_score\n",
    "from transformers import pipeline\n",
    "from sklearn.metrics.pairwise import cosine_similarity\n",
    "import matplotlib.pyplot as plt\n",
    "\n",
    "print(\"Libraries installed\")\n"
   ]
  },
  {
   "cell_type": "markdown",
   "id": "de30d15b",
   "metadata": {},
   "source": [
    "# -------------------------------\n",
    "# 1. Load Dataset \n",
    "# -------------------------------"
   ]
  },
  {
   "cell_type": "code",
   "execution_count": 2,
   "id": "84eb28dc",
   "metadata": {
    "scrolled": false
   },
   "outputs": [
    {
     "name": "stdout",
     "output_type": "stream",
     "text": [
      "Original Data Preview:\n",
      "             Job Id     Experience Qualifications Salary Range    location  \\\n",
      "0  1089843540111562  5 to 15 Years         M.Tech    $59K-$99K     Douglas   \n",
      "1   398454096642776  2 to 12 Years            BCA   $56K-$116K    Ashgabat   \n",
      "2   481640072963533  0 to 12 Years            PhD   $61K-$104K       Macao   \n",
      "3   688192671473044  4 to 11 Years            PhD    $65K-$91K  Porto-Novo   \n",
      "4   117057806156508  1 to 12 Years            MBA    $64K-$87K    Santiago   \n",
      "\n",
      "            Country  latitude  longitude  Work Type  Company Size  ...  \\\n",
      "0       Isle of Man   54.2361    -4.5481     Intern         26801  ...   \n",
      "1      Turkmenistan   38.9697    59.5563     Intern        100340  ...   \n",
      "2  Macao SAR, China   22.1987   113.5439  Temporary         84525  ...   \n",
      "3             Benin    9.3077     2.3158  Full-Time        129896  ...   \n",
      "4             Chile  -35.6751   -71.5429     Intern         53944  ...   \n",
      "\n",
      "                 Contact                     Job Title  \\\n",
      "0   001-381-930-7517x737  Digital Marketing Specialist   \n",
      "1           461-509-4216                 Web Developer   \n",
      "2             9687619505            Operations Manager   \n",
      "3  +1-820-643-5431x47576              Network Engineer   \n",
      "4      343.975.4702x9340                 Event Manager   \n",
      "\n",
      "                        Role    Job Portal  \\\n",
      "0       Social Media Manager      Snagajob   \n",
      "1     Frontend Web Developer      Idealist   \n",
      "2    Quality Control Manager  Jobs2Careers   \n",
      "3  Wireless Network Engineer      FlexJobs   \n",
      "4         Conference Manager  Jobs2Careers   \n",
      "\n",
      "                                     Job Description  \\\n",
      "0  Social Media Managers oversee an organizations...   \n",
      "1  Frontend Web Developers design and implement u...   \n",
      "2  Quality Control Managers establish and enforce...   \n",
      "3  Wireless Network Engineers design, implement, ...   \n",
      "4  A Conference Manager coordinates and manages c...   \n",
      "\n",
      "                                            Benefits  \\\n",
      "0  {'Flexible Spending Accounts (FSAs), Relocatio...   \n",
      "1  {'Health Insurance, Retirement Plans, Paid Tim...   \n",
      "2  {'Legal Assistance, Bonuses and Incentive Prog...   \n",
      "3  {'Transportation Benefits, Professional Develo...   \n",
      "4  {'Flexible Spending Accounts (FSAs), Relocatio...   \n",
      "\n",
      "                                              skills  \\\n",
      "0  Social media platforms (e.g., Facebook, Twitte...   \n",
      "1  HTML, CSS, JavaScript Frontend frameworks (e.g...   \n",
      "2  Quality control processes and methodologies St...   \n",
      "3  Wireless network design and architecture Wi-Fi...   \n",
      "4  Event planning Conference logistics Budget man...   \n",
      "\n",
      "                                    Responsibilities  \\\n",
      "0  Manage and grow social media accounts, create ...   \n",
      "1  Design and code user interfaces for websites, ...   \n",
      "2  Establish and enforce quality control standard...   \n",
      "3  Design, configure, and optimize wireless netwo...   \n",
      "4  Specialize in conference and convention planni...   \n",
      "\n",
      "                            Company  \\\n",
      "0                 Icahn Enterprises   \n",
      "1      PNC Financial Services Group   \n",
      "2  United Services Automobile Assn.   \n",
      "3                              Hess   \n",
      "4                      Cairn Energy   \n",
      "\n",
      "                                     Company Profile  \n",
      "0  {\"Sector\":\"Diversified\",\"Industry\":\"Diversifie...  \n",
      "1  {\"Sector\":\"Financial Services\",\"Industry\":\"Com...  \n",
      "2  {\"Sector\":\"Insurance\",\"Industry\":\"Insurance: P...  \n",
      "3  {\"Sector\":\"Energy\",\"Industry\":\"Mining, Crude-O...  \n",
      "4  {\"Sector\":\"Energy\",\"Industry\":\"Energy - Oil & ...  \n",
      "\n",
      "[5 rows x 23 columns]\n"
     ]
    }
   ],
   "source": [
    "# Load the job description dataset\n",
    "data = pd.read_csv(\"/Users/macadmin/Documents/UoL/Final Project/job_descriptions.csv\") \n",
    "print(\"Original Data Preview:\")\n",
    "print(data.head())\n",
    "\n",
    "# Sampling 500 job descriptions for testing\n",
    "small_data = data.sample(n=500, random_state=42)\n",
    "\n",
    "# Saving the sample for testing\n",
    "small_data.to_csv('small_sample.csv', index=False)"
   ]
  },
  {
   "cell_type": "markdown",
   "id": "233cbde5",
   "metadata": {},
   "source": [
    "# -------------------------------\n",
    "# 2. Preprocess Dataset\n",
    "# -------------------------------"
   ]
  },
  {
   "cell_type": "code",
   "execution_count": 3,
   "id": "1d000bb9",
   "metadata": {},
   "outputs": [
    {
     "name": "stdout",
     "output_type": "stream",
     "text": [
      "\n",
      "Preprocessed Data Preview:\n",
      "                                           Job Description  \\\n",
      "108318   Promote diversity and inclusion in the supply ...   \n",
      "7787     Architectural Drafters assist architects and e...   \n",
      "1237496  An Art Education Coordinator plans and manages...   \n",
      "55757    Environmental Impact Analysts assess the envir...   \n",
      "818970   An Art Education Coordinator plans and manages...   \n",
      "\n",
      "                                                 processed  \n",
      "108318   promote diversity inclusion supply chain manag...  \n",
      "7787     architectural drafter assist architect enginee...  \n",
      "1237496  art education coordinator plan manage art educ...  \n",
      "55757    environmental impact analyst assess environmen...  \n",
      "818970   art education coordinator plan manage art educ...  \n"
     ]
    }
   ],
   "source": [
    "# Load spaCy model\n",
    "nlp = spacy.load(\"en_core_web_sm\")\n",
    "\n",
    "# Text Preprocessing Function\n",
    "def preprocess(text):    \n",
    "    doc = nlp(text.lower())\n",
    "    tokens = [token.lemma_ for token in doc if not token.is_stop and not token.is_punct]\n",
    "    return \" \".join(tokens)\n",
    "\n",
    "# Preprocess all job descriptions\n",
    "small_data['processed'] = small_data['Job Description'].apply(preprocess)\n",
    "print(\"\\nPreprocessed Data Preview:\")\n",
    "print(small_data[['Job Description', 'processed']].head())"
   ]
  },
  {
   "cell_type": "markdown",
   "id": "0b4f0d9b",
   "metadata": {},
   "source": [
    "# --------------------------------------\n",
    "# 3. Keyword Extraction Using TF-IDF\n",
    "# --------------------------------------"
   ]
  },
  {
   "cell_type": "code",
   "execution_count": 5,
   "id": "589b5f67",
   "metadata": {},
   "outputs": [
    {
     "name": "stdout",
     "output_type": "stream",
     "text": [
      "                                           Job Description  \\\n",
      "108318   Promote diversity and inclusion in the supply ...   \n",
      "7787     Architectural Drafters assist architects and e...   \n",
      "1237496  An Art Education Coordinator plans and manages...   \n",
      "55757    Environmental Impact Analysts assess the envir...   \n",
      "818970   An Art Education Coordinator plans and manages...   \n",
      "\n",
      "                                 TF-IDF Keywords  \n",
      "108318         datum, create, user, work, manage  \n",
      "7787      manage, work, design, create, software  \n",
      "1237496        datum, create, user, work, manage  \n",
      "55757    create, manage, provide, datum, analyze  \n",
      "818970         datum, create, user, work, manage  \n"
     ]
    }
   ],
   "source": [
    "# Initialize the TF-IDF Vectorizer\n",
    "tfidf_vectorizer = TfidfVectorizer(max_features=20)  # Extract top 20 keywords\n",
    "\n",
    "# Fit and transform the preprocessed text\n",
    "tfidf_matrix = tfidf_vectorizer.fit_transform(small_data['processed'])\n",
    "\n",
    "# Get the top keywords for each job description\n",
    "keywords = []\n",
    "feature_names = tfidf_vectorizer.get_feature_names_out()\n",
    "\n",
    "for row in tfidf_matrix:\n",
    "    top_indices = np.argsort(row.toarray()).flatten()[-5:]  # Top 5 keywords\n",
    "    top_keywords = [feature_names[i] for i in top_indices]\n",
    "    keywords.append(\", \".join(top_keywords))\n",
    "\n",
    "# Add the keywords as a new column\n",
    "small_data['TF-IDF Keywords'] = keywords\n",
    "\n",
    "print(small_data[['Job Description', 'TF-IDF Keywords']].head())"
   ]
  },
  {
   "cell_type": "markdown",
   "id": "082b0170",
   "metadata": {},
   "source": [
    "# -----------------------------------------------\n",
    "# 4. Named Entity Recognition (NER) Extraction\n",
    "# -----------------------------------------------"
   ]
  },
  {
   "cell_type": "code",
   "execution_count": 6,
   "id": "35864d80",
   "metadata": {},
   "outputs": [
    {
     "name": "stdout",
     "output_type": "stream",
     "text": [
      "                                           Job Description   NER Keywords\n",
      "108318   Promote diversity and inclusion in the supply ...               \n",
      "7787     Architectural Drafters assist architects and e...  Drafters, CAD\n",
      "1237496  An Art Education Coordinator plans and manages...               \n",
      "55757    Environmental Impact Analysts assess the envir...               \n",
      "818970   An Art Education Coordinator plans and manages...               \n"
     ]
    }
   ],
   "source": [
    "# Function to extract NER entities (skills, qualifications, job titles)\n",
    "def extract_ner(text):\n",
    "    doc = nlp(text)\n",
    "    entities = [ent.text for ent in doc.ents if ent.label_ in [\"ORG\", \"PERSON\", \"GPE\", \"WORK_OF_ART\", \"PRODUCT\"]]\n",
    "    return \", \".join(entities)\n",
    "\n",
    "# Apply NER extraction to job descriptions\n",
    "small_data['NER Keywords'] = small_data['Job Description'].apply(extract_ner)\n",
    "\n",
    "print(small_data[['Job Description', 'NER Keywords']].head())"
   ]
  },
  {
   "cell_type": "markdown",
   "id": "59df0827",
   "metadata": {},
   "source": [
    "# ------------------------------------------------------------\n",
    "# 5. Semantic Extraction and Similarity Using BERT \n",
    "# ------------------------------------------------------------"
   ]
  },
  {
   "cell_type": "code",
   "execution_count": 14,
   "id": "383c5b41",
   "metadata": {},
   "outputs": [
    {
     "name": "stderr",
     "output_type": "stream",
     "text": [
      "Device set to use cpu\n"
     ]
    },
    {
     "name": "stdout",
     "output_type": "stream",
     "text": [
      "\n",
      "Simplified BERT Keywords Preview:\n",
      "                                           Job Description  \\\n",
      "108318   Promote diversity and inclusion in the supply ...   \n",
      "7787     Architectural Drafters assist architects and e...   \n",
      "1237496  An Art Education Coordinator plans and manages...   \n",
      "55757    Environmental Impact Analysts assess the envir...   \n",
      "818970   An Art Education Coordinator plans and manages...   \n",
      "\n",
      "                                             BERT Keywords  \n",
      "108318   diversity, inclusion, the supply chain, suppli...  \n",
      "7787     architectural drafters, architects, engineers,...  \n",
      "1237496  an art education coordinator, art education pr...  \n",
      "55757    environmental impact analysts, the environment...  \n",
      "818970   an art education coordinator, art education pr...  \n"
     ]
    }
   ],
   "source": [
    "# Load BERT pipeline\n",
    "semantic_extractor = pipeline(\"feature-extraction\", model=\"bert-base-uncased\", device=-1)\n",
    "\n",
    "# Function to extract BERT-based keywords using noun chunks\n",
    "def extract_bert_keywords(text, top_n=5):    \n",
    "    # Extract noun chunks with spaCy\n",
    "    doc = nlp(text)\n",
    "    noun_chunks = [chunk.text.lower() for chunk in doc.noun_chunks]\n",
    "    \n",
    "    # For simplicity, only return the top N chunks\n",
    "    return \", \".join(noun_chunks[:top_n])\n",
    "\n",
    "# Apply BERT-based extraction with spaCy chunks (first 5 rows for runtime efficiency)\n",
    "small_data['BERT Keywords'] = small_data['Job Description'][:5].apply(extract_bert_keywords)\n",
    "\n",
    "print(\"\\nSimplified BERT Keywords Preview:\")\n",
    "print(small_data[['Job Description', 'BERT Keywords']].head())\n"
   ]
  },
  {
   "cell_type": "markdown",
   "id": "9f0ebc61",
   "metadata": {},
   "source": [
    "# ------------------------------------------------\n",
    "# 6. Search Strategy Query Generation\n",
    "# ------------------------------------------------"
   ]
  },
  {
   "cell_type": "code",
   "execution_count": 15,
   "id": "2f5f3d57",
   "metadata": {},
   "outputs": [
    {
     "name": "stdout",
     "output_type": "stream",
     "text": [
      "\n",
      "Generated Search Strategies:\n",
      "                                           Job Description  \\\n",
      "108318   Promote diversity and inclusion in the supply ...   \n",
      "7787     Architectural Drafters assist architects and e...   \n",
      "1237496  An Art Education Coordinator plans and manages...   \n",
      "55757    Environmental Impact Analysts assess the envir...   \n",
      "818970   An Art Education Coordinator plans and manages...   \n",
      "\n",
      "                                           Search Strategy  \n",
      "108318    AND create AND user AND datum AND work AND ma...  \n",
      "7787     create AND software AND CAD AND Drafters AND w...  \n",
      "1237496   AND create AND user AND datum AND work AND ma...  \n",
      "55757     AND create AND datum AND analyze AND manage A...  \n",
      "818970    AND create AND user AND datum AND work AND ma...  \n"
     ]
    }
   ],
   "source": [
    "# Combine all keywords into search queries\n",
    "def generate_search_query(tfidf, ner):\n",
    "    query_terms = set(tfidf.split(\", \") + ner.split(\", \"))\n",
    "    return \" AND \".join(query_terms)\n",
    "\n",
    "small_data['Search Strategy'] = small_data.apply(lambda x: generate_search_query(x['TF-IDF Keywords'], x['NER Keywords']), axis=1)\n",
    "print(\"\\nGenerated Search Strategies:\")\n",
    "print(small_data[['Job Description', 'Search Strategy']].head())"
   ]
  },
  {
   "cell_type": "markdown",
   "id": "929d4656",
   "metadata": {},
   "source": [
    "# ------------------------------------------------\n",
    "# 6. Save the Results\n",
    "# ------------------------------------------------"
   ]
  },
  {
   "cell_type": "code",
   "execution_count": 16,
   "id": "349fac67",
   "metadata": {},
   "outputs": [
    {
     "name": "stdout",
     "output_type": "stream",
     "text": [
      "All steps completed! The results have been saved to 'processed_job_descriptions.csv'.\n"
     ]
    }
   ],
   "source": [
    "# Save the final DataFrame to a CSV file\n",
    "small_data.to_csv('processed_job_descriptions.csv', index=False)\n",
    "\n",
    "print(\"All steps completed! The results have been saved to 'processed_job_descriptions.csv'.\")"
   ]
  },
  {
   "cell_type": "markdown",
   "id": "40aa340e",
   "metadata": {},
   "source": [
    "# ------------------------------------------------\n",
    "# 7. Visual Comparison of Results\n",
    "# ------------------------------------------------"
   ]
  },
  {
   "cell_type": "code",
   "execution_count": 18,
   "id": "0b31b3e6",
   "metadata": {},
   "outputs": [
    {
     "name": "stdout",
     "output_type": "stream",
     "text": [
      "\n",
      "Comparison of Methods:\n",
      "                                           Job Description  \\\n",
      "108318   Promote diversity and inclusion in the supply ...   \n",
      "7787     Architectural Drafters assist architects and e...   \n",
      "1237496  An Art Education Coordinator plans and manages...   \n",
      "55757    Environmental Impact Analysts assess the envir...   \n",
      "818970   An Art Education Coordinator plans and manages...   \n",
      "\n",
      "                                 TF-IDF Keywords   NER Keywords  \\\n",
      "108318         datum, create, user, work, manage                  \n",
      "7787      manage, work, design, create, software  Drafters, CAD   \n",
      "1237496        datum, create, user, work, manage                  \n",
      "55757    create, manage, provide, datum, analyze                  \n",
      "818970         datum, create, user, work, manage                  \n",
      "\n",
      "                                             BERT Keywords  \\\n",
      "108318   diversity, inclusion, the supply chain, suppli...   \n",
      "7787     architectural drafters, architects, engineers,...   \n",
      "1237496  an art education coordinator, art education pr...   \n",
      "55757    environmental impact analysts, the environment...   \n",
      "818970   an art education coordinator, art education pr...   \n",
      "\n",
      "                                           Search Strategy  \n",
      "108318    AND create AND user AND datum AND work AND ma...  \n",
      "7787     create AND software AND CAD AND Drafters AND w...  \n",
      "1237496   AND create AND user AND datum AND work AND ma...  \n",
      "55757     AND create AND datum AND analyze AND manage A...  \n",
      "818970    AND create AND user AND datum AND work AND ma...  \n"
     ]
    }
   ],
   "source": [
    "# Side-by-Side Comparison Table\n",
    "comparison_df = small_data[['Job Description', 'TF-IDF Keywords', 'NER Keywords', 'BERT Keywords', 'Search Strategy']].head()\n",
    "print(\"\\nComparison of Methods:\")\n",
    "print(comparison_df)"
   ]
  },
  {
   "cell_type": "markdown",
   "id": "beb5a36e",
   "metadata": {},
   "source": [
    "# ------------------------------------------------\n",
    "# 8. Evaluation Metrics \n",
    "# ------------------------------------------------"
   ]
  },
  {
   "cell_type": "markdown",
   "id": "53ebb610",
   "metadata": {},
   "source": [
    "## -----------------------------------------------\n",
    "## 8.1 Load and Prepare Dataset\n",
    "## ------------------------------------------------"
   ]
  },
  {
   "cell_type": "code",
   "execution_count": 62,
   "id": "212fad31",
   "metadata": {},
   "outputs": [
    {
     "name": "stdout",
     "output_type": "stream",
     "text": [
      "First 5 rows of the dataset:\n",
      "                                           Job Description  \\\n",
      "108318   Promote diversity and inclusion in the supply ...   \n",
      "7787     Architectural Drafters assist architects and e...   \n",
      "1237496  An Art Education Coordinator plans and manages...   \n",
      "55757    Environmental Impact Analysts assess the envir...   \n",
      "818970   An Art Education Coordinator plans and manages...   \n",
      "\n",
      "                                                    skills  \n",
      "108318   Supplier diversity programs Diversity and incl...  \n",
      "7787     Architectural drafting AutoCAD 2D and 3D model...  \n",
      "1237496  Art education curriculum Program development T...  \n",
      "55757    Environmental impact analysis Data collection ...  \n",
      "818970   Art education curriculum Program development T...  \n"
     ]
    }
   ],
   "source": [
    "# Extract only the 'Job Description' and 'skills' columns\n",
    "data = small_data[['Job Description', 'skills']]\n",
    "\n",
    "# Display the extracted columns to ensure data is loaded correctly\n",
    "print(\"First 5 rows of the dataset:\")\n",
    "print(data.head())\n",
    "\n",
    "# Save the selected columns to a new CSV file for reference\n",
    "data.to_csv('job_description_skills.csv', index=False)"
   ]
  },
  {
   "cell_type": "markdown",
   "id": "00353211",
   "metadata": {},
   "source": [
    "## ------------------------------------------------\n",
    "## 8.2 Text Preprocessing using spaCy\n",
    "## ------------------------------------------------"
   ]
  },
  {
   "cell_type": "code",
   "execution_count": 63,
   "id": "e54ffa3e",
   "metadata": {},
   "outputs": [
    {
     "name": "stdout",
     "output_type": "stream",
     "text": [
      "Processed Job Descriptions:\n",
      "                                           Job Description  \\\n",
      "108318   Promote diversity and inclusion in the supply ...   \n",
      "7787     Architectural Drafters assist architects and e...   \n",
      "1237496  An Art Education Coordinator plans and manages...   \n",
      "55757    Environmental Impact Analysts assess the envir...   \n",
      "818970   An Art Education Coordinator plans and manages...   \n",
      "\n",
      "                                                 processed  \n",
      "108318   promote diversity inclusion supply chain manag...  \n",
      "7787     architectural drafter assist architect enginee...  \n",
      "1237496  art education coordinator plan manage art educ...  \n",
      "55757    environmental impact analyst assess environmen...  \n",
      "818970   art education coordinator plan manage art educ...  \n"
     ]
    },
    {
     "name": "stderr",
     "output_type": "stream",
     "text": [
      "/var/folders/g6/y270stmd4mng02vm3dcdn0880000gn/T/ipykernel_33712/2933099333.py:11: SettingWithCopyWarning: \n",
      "A value is trying to be set on a copy of a slice from a DataFrame.\n",
      "Try using .loc[row_indexer,col_indexer] = value instead\n",
      "\n",
      "See the caveats in the documentation: https://pandas.pydata.org/pandas-docs/stable/user_guide/indexing.html#returning-a-view-versus-a-copy\n",
      "  data['processed'] = data['Job Description'].apply(preprocess)\n"
     ]
    }
   ],
   "source": [
    "# Load the spaCy model\n",
    "nlp = spacy.load(\"en_core_web_sm\")\n",
    "\n",
    "# Define preprocessing function\n",
    "def preprocess(text):  \n",
    "    doc = nlp(text.lower())\n",
    "    tokens = [token.lemma_ for token in doc if not token.is_stop and not token.is_punct]\n",
    "    return \" \".join(tokens)\n",
    "\n",
    "# Apply preprocessing to 'Job Description'\n",
    "data['processed'] = data['Job Description'].apply(preprocess)\n",
    "\n",
    "# Display processed text\n",
    "print(\"Processed Job Descriptions:\")\n",
    "print(data[['Job Description', 'processed']].head())\n"
   ]
  },
  {
   "cell_type": "markdown",
   "id": "79ab7d14",
   "metadata": {},
   "source": [
    "## ------------------------------------------------\n",
    "## 8.3 Generate Ground Truth Keywords\n",
    "## ------------------------------------------------"
   ]
  },
  {
   "cell_type": "code",
   "execution_count": 64,
   "id": "31a4756e",
   "metadata": {},
   "outputs": [
    {
     "name": "stdout",
     "output_type": "stream",
     "text": [
      "Ground Truth (first 5 rows):\n",
      "Row 0: ['supplier', 'diversity', 'program', 'diversity', 'inclusion', 'initiative', 'supplier', 'assessment', 'certification', 'datum', 'collection', 'report', 'vendor', 'outreach', 'engagement', 'strategic', 'planning', 'communication', 'skill', 'relationship', 'build', 'attention', 'diversity', 'inclusion', 'principle']\n",
      "Row 1: ['architectural', 'drafting', 'autocad', '2d', '3d', 'modeling', 'blueprint', 'reading', 'building', 'code', 'collaboration', 'architect', 'detail', 'orient']\n",
      "Row 2: ['art', 'education', 'curriculum', 'program', 'development', 'teacher', 'train', 'communication', 'skill', 'artistic', 'expertise']\n",
      "Row 3: ['environmental', 'impact', 'analysis', 'datum', 'collection', 'analysis', 'environmental', 'regulation', 'report', 'gis', 'geographic', 'information', 'system', 'technical', 'writing']\n",
      "Row 4: ['art', 'education', 'curriculum', 'program', 'development', 'teacher', 'train', 'communication', 'skill', 'artistic', 'expertise']\n"
     ]
    }
   ],
   "source": [
    "# Create Ground Truth Dictionary with Lemmatization and Cleaning\n",
    "def create_ground_truth(skills_column, nlp):\n",
    "    ground_truth = {}\n",
    "    for idx, skills in enumerate(skills_column):\n",
    "        # Process and clean each skill\n",
    "        doc = nlp(skills.lower())\n",
    "        keywords = [token.lemma_ for token in doc if not token.is_stop and not token.is_punct]\n",
    "        ground_truth[idx] = keywords\n",
    "    return ground_truth\n",
    "\n",
    "# Generate Ground Truth from 'skills' column\n",
    "ground_truth = create_ground_truth(data['skills'], nlp)\n",
    "\n",
    "# Display ground truth for verification\n",
    "print(\"Ground Truth (first 5 rows):\")\n",
    "for idx in range(5):\n",
    "    print(f\"Row {idx}: {ground_truth[idx]}\")\n"
   ]
  },
  {
   "cell_type": "markdown",
   "id": "82f41039",
   "metadata": {},
   "source": [
    "## ------------------------------------------------\n",
    "## 8.4 TF-IDF Keyword Extraction\n",
    "## ------------------------------------------------"
   ]
  },
  {
   "cell_type": "code",
   "execution_count": 65,
   "id": "1d59e73e",
   "metadata": {},
   "outputs": [
    {
     "name": "stdout",
     "output_type": "stream",
     "text": [
      "TF-IDF Keywords (first 5 rows):\n",
      "Row 0: ['assess', 'chain', 'diversity', 'inclusion', 'supplier']\n",
      "Row 1: ['accurate', 'architectural', 'drawing', 'software', 'structure']\n",
      "Row 2: ['appreciation', 'art', 'community', 'coordinator', 'education']\n",
      "Row 3: ['environmental', 'project', 'promote', 'provide', 'recommendation']\n",
      "Row 4: ['appreciation', 'art', 'community', 'coordinator', 'education']\n"
     ]
    }
   ],
   "source": [
    "# TF-IDF Keyword Extraction\n",
    "vectorizer = TfidfVectorizer(max_features=5)\n",
    "tfidf_keywords = []\n",
    "\n",
    "# Extract top keywords for each processed text\n",
    "for text in data['processed']:\n",
    "    tfidf_matrix = vectorizer.fit_transform([text])\n",
    "    feature_names = [word.lower() for word in vectorizer.get_feature_names_out()]\n",
    "    tfidf_keywords.append(list(feature_names))\n",
    "\n",
    "# Display TF-IDF keywords for first 5 rows\n",
    "print(\"TF-IDF Keywords (first 5 rows):\")\n",
    "for idx, keywords in enumerate(tfidf_keywords[:5]):\n",
    "    print(f\"Row {idx}: {keywords}\")\n"
   ]
  },
  {
   "cell_type": "markdown",
   "id": "f6e4e8fd",
   "metadata": {},
   "source": [
    "## ------------------------------------------------\n",
    "## 8.5 NER-Based Keyword Extraction\n",
    "## ------------------------------------------------"
   ]
  },
  {
   "cell_type": "code",
   "execution_count": 66,
   "id": "71469a9c",
   "metadata": {},
   "outputs": [
    {
     "name": "stdout",
     "output_type": "stream",
     "text": [
      "NER-Based Keywords (first 5 rows):\n",
      "Row 0: ['diversity inclusion supply chain', 'supplier diversity program', 'supplier performance']\n",
      "Row 1: ['architectural drafter', 'architect engineer', 'detailed technical drawing plan building structure', 'computer aid design cad software', 'accurate precise architectural drawing']\n",
      "Row 2: ['art education coordinator plan', 'art education program curriculum development educational outreach', 'art appreciation', 'community']\n",
      "Row 3: ['environmental impact analyst', 'environmental consequence project activity conduct study analyze datum', 'recommendation minimize adverse environmental effect', 'sustainable practice']\n",
      "Row 4: ['art education coordinator plan', 'art education program curriculum development educational outreach', 'art appreciation', 'community']\n"
     ]
    }
   ],
   "source": [
    "# NER-Based Keyword Extraction\n",
    "def extract_ner_keywords(text):\n",
    "    doc = nlp(text)\n",
    "    keywords = [chunk.text.lower() for chunk in doc.noun_chunks]\n",
    "    return keywords[:5]  # Return top 5 noun chunks\n",
    "\n",
    "# Apply NER extraction\n",
    "ner_keywords = data['processed'].apply(extract_ner_keywords)\n",
    "\n",
    "# Display NER-based keywords\n",
    "print(\"NER-Based Keywords (first 5 rows):\")\n",
    "for idx, keywords in enumerate(ner_keywords[:5]):\n",
    "    print(f\"Row {idx}: {keywords}\")"
   ]
  },
  {
   "cell_type": "markdown",
   "id": "207ff973",
   "metadata": {},
   "source": [
    "## ------------------------------------------------\n",
    "## 8.6 BERT-Based Keyword Extraction\n",
    "## ------------------------------------------------"
   ]
  },
  {
   "cell_type": "code",
   "execution_count": 67,
   "id": "5d68f828",
   "metadata": {},
   "outputs": [
    {
     "name": "stdout",
     "output_type": "stream",
     "text": [
      "BERT-Based Keywords (first 5 rows):\n",
      "Row 0: ['diversity inclusion supply chain', 'supplier diversity program', 'supplier performance']\n",
      "Row 1: ['architectural drafter', 'architect engineer', 'detailed technical drawing plan building structure', 'computer aid design cad software', 'accurate precise architectural drawing']\n",
      "Row 2: ['art education coordinator plan', 'art education program curriculum development educational outreach', 'art appreciation', 'community']\n",
      "Row 3: ['environmental impact analyst', 'environmental consequence project activity conduct study analyze datum', 'recommendation minimize adverse environmental effect', 'sustainable practice']\n",
      "Row 4: ['art education coordinator plan', 'art education program curriculum development educational outreach', 'art appreciation', 'community']\n"
     ]
    }
   ],
   "source": [
    "# BERT-Based Keyword Extraction using Noun Chunks\n",
    "def extract_bert_keywords(text, n=5):\n",
    "    doc = nlp(text)\n",
    "    keywords = [chunk.text.lower() for chunk in doc.noun_chunks]\n",
    "    return keywords[:n]\n",
    "\n",
    "# Apply BERT-based keyword extraction\n",
    "bert_keywords = data['processed'].apply(lambda x: extract_bert_keywords(x, n=5))\n",
    "\n",
    "# Display BERT-based keywords for first 5 rows\n",
    "print(\"BERT-Based Keywords (first 5 rows):\")\n",
    "for idx, keywords in enumerate(bert_keywords[:5]):\n",
    "    print(f\"Row {idx}: {keywords}\")\n"
   ]
  },
  {
   "cell_type": "markdown",
   "id": "757fac0b",
   "metadata": {},
   "source": [
    "## ------------------------------------------------\n",
    "## 8.7 Evaluation Metrics Calculation\n",
    "## ------------------------------------------------"
   ]
  },
  {
   "cell_type": "code",
   "execution_count": 83,
   "id": "3d40b1bf",
   "metadata": {},
   "outputs": [],
   "source": [
    "# Evaluation Metrics Calculation with Cleanup\n",
    "def calculate_metrics(predicted, ground_truth):\n",
    "    precision, recall, f1_results = [], [], []\n",
    "    for i, keywords in enumerate(predicted):\n",
    "        if i in ground_truth:\n",
    "            # Clean and align predicted keywords\n",
    "            predicted_cleaned = [word.strip().lower() for word in keywords]\n",
    "            ground_truth_cleaned = ground_truth[i]\n",
    "\n",
    "            # Binary ground-truth match\n",
    "            y_true = [1 if word in ground_truth_cleaned else 0 for word in predicted_cleaned]\n",
    "            y_pred = [1] * len(predicted_cleaned)\n",
    "\n",
    "            if sum(y_true) > 0:  # Handle edge cases where ground truth exists\n",
    "                precision.append(precision_score(y_true, y_pred))\n",
    "                recall.append(recall_score(y_true, y_pred))\n",
    "                f1_results.append(sklearn_f1_score(y_true, y_pred))  # Use sklearn_f1_score\n",
    "            else:\n",
    "                precision.append(0)\n",
    "                recall.append(0)\n",
    "                f1_results.append(0)\n",
    "    return np.mean(precision), np.mean(recall), np.mean(f1_results)\n"
   ]
  },
  {
   "cell_type": "markdown",
   "id": "3d101521",
   "metadata": {},
   "source": [
    "## ------------------------------------------------\n",
    "## 8.8 Evaluate and Compare TF-IDF and BERT\n",
    "## ------------------------------------------------"
   ]
  },
  {
   "cell_type": "code",
   "execution_count": 84,
   "id": "2ac63357",
   "metadata": {},
   "outputs": [
    {
     "name": "stdout",
     "output_type": "stream",
     "text": [
      "\n",
      "TF-IDF Evaluation:\n",
      "Precision: 0.36, Recall: 0.95, F1-Score: 0.50\n",
      "\n",
      "NER-Based Evaluation:\n",
      "Precision: 0.03, Recall: 0.09, F1-Score: 0.04\n",
      "\n",
      "BERT-Based Evaluation:\n",
      "Precision: 0.03, Recall: 0.09, F1-Score: 0.04\n"
     ]
    }
   ],
   "source": [
    "# Evaluate TF-IDF Keywords\n",
    "tfidf_precision, tfidf_recall, tfidf_f1 = calculate_metrics(tfidf_keywords, ground_truth)\n",
    "print(\"\\nTF-IDF Evaluation:\")\n",
    "print(f\"Precision: {tfidf_precision:.2f}, Recall: {tfidf_recall:.2f}, F1-Score: {tfidf_f1:.2f}\")\n",
    "\n",
    "# Evaluate NER Keywords\n",
    "ner_precision, ner_recall, ner_f1 = calculate_metrics(ner_keywords, ground_truth)\n",
    "print(\"\\nNER-Based Evaluation:\")\n",
    "print(f\"Precision: {ner_precision:.2f}, Recall: {ner_recall:.2f}, F1-Score: {ner_f1:.2f}\")\n",
    "\n",
    "# Evaluate BERT-Based Keywords\n",
    "bert_precision, bert_recall, bert_f1 = calculate_metrics(bert_keywords, ground_truth)\n",
    "print(\"\\nBERT-Based Evaluation:\")\n",
    "print(f\"Precision: {bert_precision:.2f}, Recall: {bert_recall:.2f}, F1-Score: {bert_f1:.2f}\")\n"
   ]
  },
  {
   "cell_type": "markdown",
   "id": "2e4351bd",
   "metadata": {},
   "source": [
    "## ------------------------------------------------\n",
    "## 8.9 Visual Comparison\n",
    "## ------------------------------------------------"
   ]
  },
  {
   "cell_type": "code",
   "execution_count": 85,
   "id": "89c82c55",
   "metadata": {},
   "outputs": [
    {
     "data": {
      "image/png": "[encoded data removed]",
      "text/plain": [
       "<Figure size 640x480 with 1 Axes>"
      ]
     },
     "metadata": {},
     "output_type": "display_data"
    }
   ],
   "source": [
    "# Results for visualization\n",
    "methods = ['TF-IDF', 'NER', 'BERT']\n",
    "precision = [tfidf_precision, ner_precision, bert_precision]\n",
    "recall = [tfidf_recall, ner_recall, bert_recall]\n",
    "f1_results = [tfidf_f1, ner_f1, bert_f1]  # Renamed from f1_score\n",
    "\n",
    "# Plotting\n",
    "fig, ax = plt.subplots()\n",
    "bar_width = 0.25\n",
    "index = np.arange(len(methods))\n",
    "\n",
    "# Bars for each metric\n",
    "plt.bar(index, precision, bar_width, label='Precision')\n",
    "plt.bar(index + bar_width, recall, bar_width, label='Recall')\n",
    "plt.bar(index + 2 * bar_width, f1_results, bar_width, label='F1-Score')  # Use renamed variable\n",
    "\n",
    "# Formatting\n",
    "plt.xlabel('Methods')\n",
    "plt.ylabel('Scores')\n",
    "plt.title('Comparison of Precision, Recall, and F1-Score')\n",
    "plt.xticks(index + bar_width, methods)\n",
    "plt.legend()\n",
    "\n",
    "plt.tight_layout()\n",
    "plt.show()\n"
   ]
  },
  {
   "cell_type": "code",
   "execution_count": null,
   "id": "f2218c50",
   "metadata": {},
   "outputs": [],
   "source": []
  }
 ],
 "metadata": {
  "kernelspec": {
   "display_name": "Python 3.10 (venv_project)",
   "language": "python",
   "name": "venv_project"
  },
  "language_info": {
   "codemirror_mode": {
    "name": "ipython",
    "version": 3
   },
   "file_extension": ".py",
   "mimetype": "text/x-python",
   "name": "python",
   "nbconvert_exporter": "python",
   "pygments_lexer": "ipython3",
   "version": "3.10.16"
  }
 },
 "nbformat": 4,
 "nbformat_minor": 5
}
