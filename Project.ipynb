{
  "cells": [
    {
      "cell_type": "code",
      "execution_count": 1,
      "id": "79cd6f27",
      "metadata": {
        "colab": {
          "base_uri": "https://localhost:8080/"
        },
        "id": "79cd6f27",
        "outputId": "94711919-cb46-4895-ff67-04ed6cf916d2"
      },
      "outputs": [
        {
          "output_type": "stream",
          "name": "stdout",
          "text": [
            "Libraries installed\n"
          ]
        }
      ],
      "source": [
        "import pandas as pd\n",
        "import numpy as np\n",
        "import nltk\n",
        "import spacy\n",
        "import torch\n",
        "from sklearn.feature_extraction.text import TfidfVectorizer\n",
        "from sklearn.metrics import precision_score, recall_score, f1_score as sklearn_f1_score\n",
        "from transformers import pipeline\n",
        "from sklearn.metrics.pairwise import cosine_similarity\n",
        "import matplotlib.pyplot as plt\n",
        "\n",
        "print(\"Libraries installed\")\n"
      ]
    },
    {
      "cell_type": "code",
      "source": [
        "from google.colab import drive\n",
        "drive.mount('/content/drive')"
      ],
      "metadata": {
        "colab": {
          "base_uri": "https://localhost:8080/"
        },
        "id": "nNX5MMs6i8Or",
        "outputId": "a4574182-8a4c-46fa-b903-14e79363a53a"
      },
      "id": "nNX5MMs6i8Or",
      "execution_count": 2,
      "outputs": [
        {
          "output_type": "stream",
          "name": "stdout",
          "text": [
            "Mounted at /content/drive\n"
          ]
        }
      ]
    },
    {
      "cell_type": "markdown",
      "id": "de30d15b",
      "metadata": {
        "id": "de30d15b"
      },
      "source": [
        "# -------------------------------\n",
        "# 1. Load Dataset\n",
        "# -------------------------------"
      ]
    },
    {
      "cell_type": "code",
      "execution_count": 3,
      "id": "84eb28dc",
      "metadata": {
        "scrolled": false,
        "colab": {
          "base_uri": "https://localhost:8080/"
        },
        "id": "84eb28dc",
        "outputId": "66b4a2e5-4c50-4484-ff1e-55cde7f2ad85"
      },
      "outputs": [
        {
          "output_type": "stream",
          "name": "stdout",
          "text": [
            "Original Data Preview:\n",
            "                   Job Id     Experience Qualifications Salary Range  \\\n",
            "108318   1017340707950150  5 to 10 Years            BBA    $55K-$84K   \n",
            "7787     2421048253959975  0 to 12 Years            MBA   $61K-$108K   \n",
            "1237496  1822636506606589  0 to 11 Years          M.Com    $57K-$82K   \n",
            "55757    3068000579894602  5 to 12 Years          B.Com    $56K-$95K   \n",
            "818970   1747904829392680  4 to 13 Years            BCA   $58K-$122K   \n",
            "\n",
            "                location   Country  latitude  longitude  Work Type  \\\n",
            "108318       Panama City    Panama    8.5379   -80.7821   Contract   \n",
            "7787               Tunis   Tunisia   33.8869     9.5375  Part-Time   \n",
            "1237496           Harare  Zimbabwe  -19.0154    29.1549  Full-Time   \n",
            "55757             Tirana   Albania   41.1533    20.1683  Temporary   \n",
            "818970   City of Baghdad      Iraq   33.2232    43.6793  Temporary   \n",
            "\n",
            "         Company Size  ...              Contact                 Job Title  \\\n",
            "108318          93242  ...         242.271.4459       Procurement Manager   \n",
            "7787            18411  ...         579.442.3566    Architectural Designer   \n",
            "1237496        120621  ...         858-776-8996               Art Teacher   \n",
            "55757          128908  ...   938.587.7586x35852  Environmental Consultant   \n",
            "818970         114717  ...  (405)990-8581x57164               Art Teacher   \n",
            "\n",
            "                                 Role       Job Portal  \\\n",
            "108318     Supplier Diversity Manager         The Muse   \n",
            "7787            Architectural Drafter         Idealist   \n",
            "1237496     Art Education Coordinator     ZipRecruiter   \n",
            "55757    Environmental Impact Analyst  Internships.com   \n",
            "818970      Art Education Coordinator         LinkedIn   \n",
            "\n",
            "                                           Job Description  \\\n",
            "108318   Promote diversity and inclusion in the supply ...   \n",
            "7787     Architectural Drafters assist architects and e...   \n",
            "1237496  An Art Education Coordinator plans and manages...   \n",
            "55757    Environmental Impact Analysts assess the envir...   \n",
            "818970   An Art Education Coordinator plans and manages...   \n",
            "\n",
            "                                                  Benefits  \\\n",
            "108318   {'Transportation Benefits, Professional Develo...   \n",
            "7787     {'Employee Assistance Programs (EAP), Tuition ...   \n",
            "1237496  {'Employee Referral Programs, Financial Counse...   \n",
            "55757    {'Transportation Benefits, Professional Develo...   \n",
            "818970   {'Employee Referral Programs, Financial Counse...   \n",
            "\n",
            "                                                    skills  \\\n",
            "108318   Supplier diversity programs Diversity and incl...   \n",
            "7787     Architectural drafting AutoCAD 2D and 3D model...   \n",
            "1237496  Art education curriculum Program development T...   \n",
            "55757    Environmental impact analysis Data collection ...   \n",
            "818970   Art education curriculum Program development T...   \n",
            "\n",
            "                                          Responsibilities  \\\n",
            "108318   Promote supplier diversity initiatives and inc...   \n",
            "7787     Prepare detailed architectural drawings and pl...   \n",
            "1237496  Coordinate art education programs, curriculum ...   \n",
            "55757    Assess the environmental impact of projects an...   \n",
            "818970   Coordinate art education programs, curriculum ...   \n",
            "\n",
            "                                     Company  \\\n",
            "108318                                RWE AG   \n",
            "7787                            Asian Paints   \n",
            "1237496          Laboratory Corp. of America   \n",
            "55757    Massachusetts Mutual Life Insurance   \n",
            "818970                          Sartorius AG   \n",
            "\n",
            "                                           Company Profile  \n",
            "108318   {\"Sector\":\"Energy\",\"Industry\":\"Energy - Utilit...  \n",
            "7787     {\"Sector\":\"Consumer Goods\",\"Industry\":\"Paints ...  \n",
            "1237496  {\"Sector\":\"Healthcare Services\",\"Industry\":\"He...  \n",
            "55757    {\"Sector\":\"Insurance\",\"Industry\":\"Insurance: L...  \n",
            "818970   {\"Sector\":\"Lab Equipment\",\"Industry\":\"Life Sci...  \n",
            "\n",
            "[5 rows x 23 columns]\n"
          ]
        }
      ],
      "source": [
        "# Load the job description dataset\n",
        "data = pd.read_csv(\"/content/drive/MyDrive/Universtiy of London/Final Project/job_descriptions.csv\")\n",
        "print(\"Original Data Preview:\")\n",
        "\n",
        "\n",
        "# Sampling 500 job descriptions for testing\n",
        "small_data = data.sample(n=9500, random_state=42)\n",
        "print(small_data.head())\n",
        "# Saving the sample for testing\n",
        "# small_data.to_csv('small_sample.csv', index=False)"
      ]
    },
    {
      "cell_type": "markdown",
      "id": "233cbde5",
      "metadata": {
        "id": "233cbde5"
      },
      "source": [
        "# -------------------------------\n",
        "# 2. Preprocess Dataset\n",
        "# -------------------------------"
      ]
    },
    {
      "cell_type": "code",
      "source": [
        "!nvidia-smi"
      ],
      "metadata": {
        "colab": {
          "base_uri": "https://localhost:8080/"
        },
        "id": "-aezDkXKxasC",
        "outputId": "adfe90c0-6814-4897-e7e8-4f4bbe70a352"
      },
      "id": "-aezDkXKxasC",
      "execution_count": 5,
      "outputs": [
        {
          "output_type": "stream",
          "name": "stdout",
          "text": [
            "Tue Mar 25 14:47:20 2025       \n",
            "+-----------------------------------------------------------------------------------------+\n",
            "| NVIDIA-SMI 550.54.15              Driver Version: 550.54.15      CUDA Version: 12.4     |\n",
            "|-----------------------------------------+------------------------+----------------------+\n",
            "| GPU  Name                 Persistence-M | Bus-Id          Disp.A | Volatile Uncorr. ECC |\n",
            "| Fan  Temp   Perf          Pwr:Usage/Cap |           Memory-Usage | GPU-Util  Compute M. |\n",
            "|                                         |                        |               MIG M. |\n",
            "|=========================================+========================+======================|\n",
            "|   0  NVIDIA L4                      Off |   00000000:00:03.0 Off |                    0 |\n",
            "| N/A   49C    P8             17W /   72W |       3MiB /  23034MiB |      0%      Default |\n",
            "|                                         |                        |                  N/A |\n",
            "+-----------------------------------------+------------------------+----------------------+\n",
            "                                                                                         \n",
            "+-----------------------------------------------------------------------------------------+\n",
            "| Processes:                                                                              |\n",
            "|  GPU   GI   CI        PID   Type   Process name                              GPU Memory |\n",
            "|        ID   ID                                                               Usage      |\n",
            "|=========================================================================================|\n",
            "|  No running processes found                                                             |\n",
            "+-----------------------------------------------------------------------------------------+\n"
          ]
        }
      ]
    },
    {
      "cell_type": "code",
      "execution_count": 4,
      "id": "1d000bb9",
      "metadata": {
        "id": "1d000bb9"
      },
      "outputs": [],
      "source": [
        "# Load spaCy model\n",
        "nlp = spacy.load(\"en_core_web_sm\", disable=[\"ner\", \"textcat\"])\n",
        "\n",
        "# Text Preprocessing Function\n",
        "def preprocess_docs(texts):\n",
        "    docs = nlp.pipe([text.lower() for text in texts], batch_size=128)\n",
        "    preprocessed = []\n",
        "    for doc in docs:\n",
        "        tokens = [token.lemma_ for token in doc if not token.is_stop and not token.is_punct]\n",
        "        preprocessed.append(\" \".join(tokens))\n",
        "    return preprocessed\n",
        "\n",
        "# Apply to the whole dataset efficiently\n",
        "small_data['processed'] = preprocess_docs(small_data['Job Description'].tolist())"
      ]
    },
    {
      "cell_type": "markdown",
      "id": "0b4f0d9b",
      "metadata": {
        "id": "0b4f0d9b"
      },
      "source": [
        "# --------------------------------------\n",
        "# 3. Keyword Extraction Using TF-IDF\n",
        "# --------------------------------------"
      ]
    },
    {
      "cell_type": "code",
      "execution_count": 5,
      "id": "589b5f67",
      "metadata": {
        "colab": {
          "base_uri": "https://localhost:8080/"
        },
        "id": "589b5f67",
        "outputId": "cf0a462b-d312-4468-9f4c-6a16be69f325"
      },
      "outputs": [
        {
          "output_type": "stream",
          "name": "stdout",
          "text": [
            "                                           Job Description  \\\n",
            "108318   Promote diversity and inclusion in the supply ...   \n",
            "7787     Architectural Drafters assist architects and e...   \n",
            "1237496  An Art Education Coordinator plans and manages...   \n",
            "55757    Environmental Impact Analysts assess the envir...   \n",
            "818970   An Art Education Coordinator plans and manages...   \n",
            "\n",
            "                                TF-IDF Keywords  \n",
            "108318      support, user, system, work, manage  \n",
            "7787        support, user, work, design, create  \n",
            "1237496     support, user, system, work, manage  \n",
            "55757    support, work, provide, datum, analyze  \n",
            "818970      support, user, system, work, manage  \n"
          ]
        }
      ],
      "source": [
        "# Initialize the TF-IDF Vectorizer\n",
        "tfidf_vectorizer = TfidfVectorizer(max_features=20)  # Extract top 20 keywords\n",
        "\n",
        "# Fit and transform the preprocessed text\n",
        "tfidf_matrix = tfidf_vectorizer.fit_transform(small_data['processed'])\n",
        "\n",
        "# Get the top keywords for each job description\n",
        "keywords = []\n",
        "feature_names = tfidf_vectorizer.get_feature_names_out()\n",
        "\n",
        "for row in tfidf_matrix:\n",
        "    top_indices = np.argsort(row.toarray()).flatten()[-5:]  # Top 5 keywords\n",
        "    top_keywords = [feature_names[i] for i in top_indices]\n",
        "    keywords.append(\", \".join(top_keywords))\n",
        "\n",
        "# Add the keywords as a new column\n",
        "small_data['TF-IDF Keywords'] = keywords\n",
        "\n",
        "print(small_data[['Job Description', 'TF-IDF Keywords']].head())"
      ]
    },
    {
      "cell_type": "markdown",
      "id": "082b0170",
      "metadata": {
        "id": "082b0170"
      },
      "source": [
        "# -----------------------------------------------\n",
        "# 4. Named Entity Recognition (NER) Extraction\n",
        "# -----------------------------------------------"
      ]
    },
    {
      "cell_type": "code",
      "execution_count": 6,
      "id": "35864d80",
      "metadata": {
        "colab": {
          "base_uri": "https://localhost:8080/"
        },
        "id": "35864d80",
        "outputId": "7a94bbd2-ff03-4e77-db56-e975e13b7df7"
      },
      "outputs": [
        {
          "output_type": "stream",
          "name": "stdout",
          "text": [
            "                                           Job Description NER Keywords\n",
            "108318   Promote diversity and inclusion in the supply ...             \n",
            "7787     Architectural Drafters assist architects and e...             \n",
            "1237496  An Art Education Coordinator plans and manages...             \n",
            "55757    Environmental Impact Analysts assess the envir...             \n",
            "818970   An Art Education Coordinator plans and manages...             \n"
          ]
        }
      ],
      "source": [
        "# Function to extract NER entities (skills, qualifications, job titles)\n",
        "def extract_ner(text):\n",
        "    doc = nlp(text)\n",
        "    entities = [ent.text for ent in doc.ents if ent.label_ in [\"ORG\", \"PERSON\", \"GPE\", \"WORK_OF_ART\", \"PRODUCT\"]]\n",
        "    return \", \".join(entities)\n",
        "\n",
        "# Apply NER extraction to job descriptions\n",
        "small_data['NER Keywords'] = small_data['Job Description'].apply(extract_ner)\n",
        "\n",
        "print(small_data[['Job Description', 'NER Keywords']].head())"
      ]
    },
    {
      "cell_type": "markdown",
      "id": "59df0827",
      "metadata": {
        "id": "59df0827"
      },
      "source": [
        "# ------------------------------------------------------------\n",
        "# 5. Semantic Extraction and Similarity Using BERT\n",
        "# ------------------------------------------------------------"
      ]
    },
    {
      "cell_type": "code",
      "execution_count": 7,
      "id": "383c5b41",
      "metadata": {
        "colab": {
          "base_uri": "https://localhost:8080/",
          "height": 559,
          "referenced_widgets": [
            "9e2b802c128e44b7a72845fa3088bcba",
            "ad600a60fbf94e18b154158bc109e8fd",
            "1c2ca8eead574cb9b4741ba1d540d666",
            "241a3571e31a42d3a555a31593279a16",
            "3371cba7141f401d92b41d8a351a9816",
            "c7b5504f558346e3b01e529a0f63c2e6",
            "deb0e74e251c49b5b099d5f0f408463a",
            "b0f5757d327c4df7b269d6dd53c75f25",
            "76ca7d0640f94aec81526d101325633f",
            "bb5adee696734a19b7b858f5e7a1eb4a",
            "a27614b9c99945ed984d424dc2ff53cc",
            "0bf76f88f5ae470aaab6eeee775fccaa",
            "e6fc5ab4a2ef4b098fe637e731f68d81",
            "12461948607f4b4189ca90c4305b92d8",
            "6f4d9e019a4540d5a96746f4717599d3",
            "67b4d2322fe44d1e8fd9ba0f58361ce8",
            "e1df6e539de544599048a21e34ca381d",
            "97eab48f3dfb4ba3a5d3c808b1badedb",
            "79942491fbda4027b8aa165d83af0ed5",
            "ebcc3770ec804560905efb0509037fee",
            "c60cdef337d440f386f2c0e7e0eff2dd",
            "f9edf80a6b0e40c2b441ecfb97d7e031",
            "939e301887f8443eb95810a8ea651c0f",
            "d84457210e864ca1bdbf403671267b17",
            "0e5d5ac46a794085a6f38b7b875ecb97",
            "651bae17de48482faee7159d4a01d785",
            "1df63d5076784f8698a0d1af2ae6df77",
            "940103155db342fb8bf5420e3fa6b6ea",
            "443ef50eaf6f4e65bc1f1a66574e75d3",
            "2d0bcb170a7f4a3a91987d6b47cafe79",
            "dd71a06e2a2a445c92a04824188693c3",
            "4aa455aebe5744f390de8a796be06356",
            "5f8c9639c40e4c87ae7a3138856af287",
            "be10910fda404388bd1eb2662a7674a3",
            "80b3d3840245423ba31f2615ee17e53a",
            "4aa02a392676467289e277aeed56afb9",
            "fea138f843de40d0a3e769c7a30a9d2e",
            "0c3f43983b644bd3a9292a78212b402f",
            "b74724c5131b4634bebd64fb530b6203",
            "c0f000ab68c9484daf7ad7c6aeed5214",
            "d3fd3134c8da4c2eafb0826f91eaa0a9",
            "7074c9143e5d42b69af73f901a0134cd",
            "4ae98f4b0e904694b659b97d515e7ca3",
            "0046c0fba3e84c1a9b78f8f402be9533",
            "2638c7fe87a04674953b00a21e669cf7",
            "809dd8c1b4014f93a5111e161d61695d",
            "81a4233a6ee6484e94436fb4a1f1a2bb",
            "e17265226d5e4fa29e9b17582528ccc2",
            "40156efaee2444cfac0272bbfc0be8db",
            "3a03067283584dfca37cd5dfd84e7174",
            "c77abcbef9ea4458ae7db8bed7c2fe7c",
            "c24ecc06ed984002b29529557e0ce190",
            "532b57d2d7934739a0c7b614651b7f26",
            "508ed27869e841e99bcb0a24ddcb7ec4",
            "403bcbe87f054d729f94f1a05657b256"
          ]
        },
        "id": "383c5b41",
        "outputId": "10e72d02-d72b-4b73-96e6-3d27caa790d7"
      },
      "outputs": [
        {
          "output_type": "stream",
          "name": "stderr",
          "text": [
            "/usr/local/lib/python3.11/dist-packages/huggingface_hub/utils/_auth.py:94: UserWarning: \n",
            "The secret `HF_TOKEN` does not exist in your Colab secrets.\n",
            "To authenticate with the Hugging Face Hub, create a token in your settings tab (https://huggingface.co/settings/tokens), set it as secret in your Google Colab and restart your session.\n",
            "You will be able to reuse this secret in all of your notebooks.\n",
            "Please note that authentication is recommended but still optional to access public models or datasets.\n",
            "  warnings.warn(\n"
          ]
        },
        {
          "output_type": "display_data",
          "data": {
            "text/plain": [
              "config.json:   0%|          | 0.00/570 [00:00<?, ?B/s]"
            ],
            "application/vnd.jupyter.widget-view+json": {
              "version_major": 2,
              "version_minor": 0,
              "model_id": "9e2b802c128e44b7a72845fa3088bcba"
            }
          },
          "metadata": {}
        },
        {
          "output_type": "display_data",
          "data": {
            "text/plain": [
              "model.safetensors:   0%|          | 0.00/440M [00:00<?, ?B/s]"
            ],
            "application/vnd.jupyter.widget-view+json": {
              "version_major": 2,
              "version_minor": 0,
              "model_id": "0bf76f88f5ae470aaab6eeee775fccaa"
            }
          },
          "metadata": {}
        },
        {
          "output_type": "display_data",
          "data": {
            "text/plain": [
              "tokenizer_config.json:   0%|          | 0.00/48.0 [00:00<?, ?B/s]"
            ],
            "application/vnd.jupyter.widget-view+json": {
              "version_major": 2,
              "version_minor": 0,
              "model_id": "939e301887f8443eb95810a8ea651c0f"
            }
          },
          "metadata": {}
        },
        {
          "output_type": "display_data",
          "data": {
            "text/plain": [
              "vocab.txt:   0%|          | 0.00/232k [00:00<?, ?B/s]"
            ],
            "application/vnd.jupyter.widget-view+json": {
              "version_major": 2,
              "version_minor": 0,
              "model_id": "be10910fda404388bd1eb2662a7674a3"
            }
          },
          "metadata": {}
        },
        {
          "output_type": "display_data",
          "data": {
            "text/plain": [
              "tokenizer.json:   0%|          | 0.00/466k [00:00<?, ?B/s]"
            ],
            "application/vnd.jupyter.widget-view+json": {
              "version_major": 2,
              "version_minor": 0,
              "model_id": "2638c7fe87a04674953b00a21e669cf7"
            }
          },
          "metadata": {}
        },
        {
          "output_type": "stream",
          "name": "stderr",
          "text": [
            "Device set to use cpu\n"
          ]
        },
        {
          "output_type": "stream",
          "name": "stdout",
          "text": [
            "\n",
            "Simplified BERT Keywords Preview:\n",
            "                                           Job Description  \\\n",
            "108318   Promote diversity and inclusion in the supply ...   \n",
            "7787     Architectural Drafters assist architects and e...   \n",
            "1237496  An Art Education Coordinator plans and manages...   \n",
            "55757    Environmental Impact Analysts assess the envir...   \n",
            "818970   An Art Education Coordinator plans and manages...   \n",
            "\n",
            "                                             BERT Keywords  \n",
            "108318       diversity, inclusion, supply, chain, supplier  \n",
            "7787     architectural, drafters, architects, engineers...  \n",
            "1237496            art, education, coordinator, plans, art  \n",
            "55757    environmental, impact, analysts, environmental...  \n",
            "818970             art, education, coordinator, plans, art  \n"
          ]
        }
      ],
      "source": [
        "# Load BERT pipeline\n",
        "semantic_extractor = pipeline(\"feature-extraction\", model=\"bert-base-uncased\", device=-1)\n",
        "nlp = spacy.load(\"en_core_web_sm\", disable=[\"ner\", \"parser\"])\n",
        "\n",
        "# Function to extract BERT-based keywords using noun chunks\n",
        "def extract_bert_keywords(text, top_n=5):\n",
        "    # Extract noun chunks with spaCy\n",
        "    doc = nlp(text.lower())\n",
        "    candidates = [token.text for token in doc if token.pos_ in [\"NOUN\", \"PROPN\", \"ADJ\"] and not token.is_stop and not token.is_punct]\n",
        "    return \", \".join(candidates[:top_n])\n",
        "\n",
        "# Apply BERT-based extraction with spaCy chunks (first 5 rows for runtime efficiency)\n",
        "small_data['BERT Keywords'] = small_data['Job Description'].apply(extract_bert_keywords)\n",
        "\n",
        "print(\"\\nSimplified BERT Keywords Preview:\")\n",
        "print(small_data[['Job Description', 'BERT Keywords']].head())\n"
      ]
    },
    {
      "cell_type": "markdown",
      "id": "9f0ebc61",
      "metadata": {
        "id": "9f0ebc61"
      },
      "source": [
        "# ------------------------------------------------\n",
        "# 6. Search Strategy Query Generation\n",
        "# ------------------------------------------------"
      ]
    },
    {
      "cell_type": "code",
      "execution_count": 8,
      "id": "2f5f3d57",
      "metadata": {
        "colab": {
          "base_uri": "https://localhost:8080/"
        },
        "id": "2f5f3d57",
        "outputId": "4805c795-1e09-4877-8e73-e16005ba1e36"
      },
      "outputs": [
        {
          "output_type": "stream",
          "name": "stdout",
          "text": [
            "\n",
            "Generated Search Strategies:\n",
            "                                           Job Description  \\\n",
            "108318   Promote diversity and inclusion in the supply ...   \n",
            "7787     Architectural Drafters assist architects and e...   \n",
            "1237496  An Art Education Coordinator plans and manages...   \n",
            "55757    Environmental Impact Analysts assess the envir...   \n",
            "818970   An Art Education Coordinator plans and manages...   \n",
            "\n",
            "                                           Search Strategy  \n",
            "108318    AND system AND support AND manage AND work AN...  \n",
            "7787      AND support AND work AND design AND user AND ...  \n",
            "1237496   AND system AND support AND manage AND work AN...  \n",
            "55757     AND support AND analyze AND datum AND work AN...  \n",
            "818970    AND system AND support AND manage AND work AN...  \n"
          ]
        }
      ],
      "source": [
        "# Combine all keywords into search queries\n",
        "def generate_search_query(tfidf, ner):\n",
        "    query_terms = set(tfidf.split(\", \") + ner.split(\", \"))\n",
        "    return \" AND \".join(query_terms)\n",
        "\n",
        "small_data['Search Strategy'] = small_data.apply(lambda x: generate_search_query(x['TF-IDF Keywords'], x['NER Keywords']), axis=1)\n",
        "print(\"\\nGenerated Search Strategies:\")\n",
        "print(small_data[['Job Description', 'Search Strategy']].head())"
      ]
    },
    {
      "cell_type": "markdown",
      "id": "929d4656",
      "metadata": {
        "id": "929d4656"
      },
      "source": [
        "# ------------------------------------------------\n",
        "# 6. Save the Results\n",
        "# ------------------------------------------------"
      ]
    },
    {
      "cell_type": "code",
      "execution_count": 9,
      "id": "349fac67",
      "metadata": {
        "colab": {
          "base_uri": "https://localhost:8080/"
        },
        "id": "349fac67",
        "outputId": "39b958cd-37fe-47c0-f828-354e7d7699f5"
      },
      "outputs": [
        {
          "output_type": "stream",
          "name": "stdout",
          "text": [
            "All steps completed! The results have been saved to 'processed_job_descriptions.csv'.\n"
          ]
        }
      ],
      "source": [
        "# Save the final DataFrame to a CSV file\n",
        "small_data.to_csv('processed_job_descriptions.csv', index=False)\n",
        "\n",
        "print(\"All steps completed! The results have been saved to 'processed_job_descriptions.csv'.\")"
      ]
    },
    {
      "cell_type": "markdown",
      "id": "40aa340e",
      "metadata": {
        "id": "40aa340e"
      },
      "source": [
        "# ------------------------------------------------\n",
        "# 7. Visual Comparison of Results\n",
        "# ------------------------------------------------"
      ]
    },
    {
      "cell_type": "code",
      "execution_count": 10,
      "id": "0b31b3e6",
      "metadata": {
        "colab": {
          "base_uri": "https://localhost:8080/"
        },
        "id": "0b31b3e6",
        "outputId": "bd37775d-c743-42e7-ab34-a2d444f4a780"
      },
      "outputs": [
        {
          "output_type": "stream",
          "name": "stdout",
          "text": [
            "\n",
            "Comparison of Methods:\n",
            "                                           Job Description  \\\n",
            "108318   Promote diversity and inclusion in the supply ...   \n",
            "7787     Architectural Drafters assist architects and e...   \n",
            "1237496  An Art Education Coordinator plans and manages...   \n",
            "55757    Environmental Impact Analysts assess the envir...   \n",
            "818970   An Art Education Coordinator plans and manages...   \n",
            "\n",
            "                                TF-IDF Keywords NER Keywords  \\\n",
            "108318      support, user, system, work, manage                \n",
            "7787        support, user, work, design, create                \n",
            "1237496     support, user, system, work, manage                \n",
            "55757    support, work, provide, datum, analyze                \n",
            "818970      support, user, system, work, manage                \n",
            "\n",
            "                                             BERT Keywords  \\\n",
            "108318       diversity, inclusion, supply, chain, supplier   \n",
            "7787     architectural, drafters, architects, engineers...   \n",
            "1237496            art, education, coordinator, plans, art   \n",
            "55757    environmental, impact, analysts, environmental...   \n",
            "818970             art, education, coordinator, plans, art   \n",
            "\n",
            "                                           Search Strategy  \n",
            "108318    AND system AND support AND manage AND work AN...  \n",
            "7787      AND support AND work AND design AND user AND ...  \n",
            "1237496   AND system AND support AND manage AND work AN...  \n",
            "55757     AND support AND analyze AND datum AND work AN...  \n",
            "818970    AND system AND support AND manage AND work AN...  \n"
          ]
        }
      ],
      "source": [
        "# Side-by-Side Comparison Table\n",
        "comparison_df = small_data[['Job Description', 'TF-IDF Keywords', 'NER Keywords', 'BERT Keywords', 'Search Strategy']].head()\n",
        "print(\"\\nComparison of Methods:\")\n",
        "print(comparison_df)"
      ]
    },
    {
      "cell_type": "markdown",
      "id": "beb5a36e",
      "metadata": {
        "id": "beb5a36e"
      },
      "source": [
        "# ------------------------------------------------\n",
        "# 8. Evaluation Metrics\n",
        "# ------------------------------------------------"
      ]
    },
    {
      "cell_type": "markdown",
      "id": "53ebb610",
      "metadata": {
        "id": "53ebb610"
      },
      "source": [
        "## -----------------------------------------------\n",
        "## 8.1 Load and Prepare Dataset\n",
        "## ------------------------------------------------"
      ]
    },
    {
      "cell_type": "code",
      "execution_count": 11,
      "id": "212fad31",
      "metadata": {
        "colab": {
          "base_uri": "https://localhost:8080/"
        },
        "id": "212fad31",
        "outputId": "f9b3af1f-6c29-4b78-9318-2f0564b74eda"
      },
      "outputs": [
        {
          "output_type": "stream",
          "name": "stdout",
          "text": [
            "First 5 rows of the dataset:\n",
            "                                           Job Description  \\\n",
            "108318   Promote diversity and inclusion in the supply ...   \n",
            "7787     Architectural Drafters assist architects and e...   \n",
            "1237496  An Art Education Coordinator plans and manages...   \n",
            "55757    Environmental Impact Analysts assess the envir...   \n",
            "818970   An Art Education Coordinator plans and manages...   \n",
            "\n",
            "                                                    skills  \n",
            "108318   Supplier diversity programs Diversity and incl...  \n",
            "7787     Architectural drafting AutoCAD 2D and 3D model...  \n",
            "1237496  Art education curriculum Program development T...  \n",
            "55757    Environmental impact analysis Data collection ...  \n",
            "818970   Art education curriculum Program development T...  \n"
          ]
        }
      ],
      "source": [
        "# Extract only the 'Job Description' and 'skills' columns\n",
        "data = small_data[['Job Description', 'skills']]\n",
        "\n",
        "# Display the extracted columns to ensure data is loaded correctly\n",
        "print(\"First 5 rows of the dataset:\")\n",
        "print(data.head())\n",
        "\n",
        "# Save the selected columns to a new CSV file for reference\n",
        "data.to_csv('job_description_skills.csv', index=False)"
      ]
    },
    {
      "cell_type": "markdown",
      "id": "00353211",
      "metadata": {
        "id": "00353211"
      },
      "source": [
        "## ------------------------------------------------\n",
        "## 8.2 Text Preprocessing using spaCy\n",
        "## ------------------------------------------------"
      ]
    },
    {
      "cell_type": "code",
      "execution_count": 12,
      "id": "e54ffa3e",
      "metadata": {
        "colab": {
          "base_uri": "https://localhost:8080/"
        },
        "id": "e54ffa3e",
        "outputId": "685027fd-fc86-448d-e8e2-53807d7cd3df"
      },
      "outputs": [
        {
          "output_type": "stream",
          "name": "stdout",
          "text": [
            "Processed Job Descriptions:\n",
            "                                           Job Description  \\\n",
            "108318   Promote diversity and inclusion in the supply ...   \n",
            "7787     Architectural Drafters assist architects and e...   \n",
            "1237496  An Art Education Coordinator plans and manages...   \n",
            "55757    Environmental Impact Analysts assess the envir...   \n",
            "818970   An Art Education Coordinator plans and manages...   \n",
            "\n",
            "                                                 processed  \n",
            "108318   promote diversity inclusion supply chain manag...  \n",
            "7787     architectural drafter assist architect enginee...  \n",
            "1237496  art education coordinator plan manage art educ...  \n",
            "55757    environmental impact analyst assess environmen...  \n",
            "818970   art education coordinator plan manage art educ...  \n"
          ]
        },
        {
          "output_type": "stream",
          "name": "stderr",
          "text": [
            "<ipython-input-12-d5311f47b808>:11: SettingWithCopyWarning: \n",
            "A value is trying to be set on a copy of a slice from a DataFrame.\n",
            "Try using .loc[row_indexer,col_indexer] = value instead\n",
            "\n",
            "See the caveats in the documentation: https://pandas.pydata.org/pandas-docs/stable/user_guide/indexing.html#returning-a-view-versus-a-copy\n",
            "  data['processed'] = data['Job Description'].apply(preprocess)\n"
          ]
        }
      ],
      "source": [
        "# Load the spaCy model\n",
        "nlp = spacy.load(\"en_core_web_sm\")\n",
        "\n",
        "# Define preprocessing function\n",
        "def preprocess(text):\n",
        "    doc = nlp(text.lower())\n",
        "    tokens = [token.lemma_ for token in doc if not token.is_stop and not token.is_punct]\n",
        "    return \" \".join(tokens)\n",
        "\n",
        "# Apply preprocessing to 'Job Description'\n",
        "data['processed'] = data['Job Description'].apply(preprocess)\n",
        "\n",
        "# Display processed text\n",
        "print(\"Processed Job Descriptions:\")\n",
        "print(data[['Job Description', 'processed']].head())\n"
      ]
    },
    {
      "cell_type": "markdown",
      "id": "79ab7d14",
      "metadata": {
        "id": "79ab7d14"
      },
      "source": [
        "## ------------------------------------------------\n",
        "## 8.3 Generate Ground Truth Keywords\n",
        "## ------------------------------------------------"
      ]
    },
    {
      "cell_type": "code",
      "execution_count": 37,
      "id": "31a4756e",
      "metadata": {
        "colab": {
          "base_uri": "https://localhost:8080/"
        },
        "id": "31a4756e",
        "outputId": "55be6b0c-e8fa-40cb-998f-8e8f160e923d"
      },
      "outputs": [
        {
          "output_type": "stream",
          "name": "stdout",
          "text": [
            "Ground Truth (first 5 rows):\n",
            "Row 0: ['supplier diversity programs diversity and inclusion initiatives supplier assessment and certification data collection and reporting vendor outreach and engagement strategic planning communication skills relationship building attention to diversity and inclusion principles']\n",
            "Row 1: ['architectural drafting autocad 2d and 3d modeling blueprint reading building codes collaboration with architects detail-oriented']\n",
            "Row 2: ['art education curriculum program development teacher training communication skills artistic expertise']\n",
            "Row 3: ['environmental impact analysis data collection and analysis environmental regulations reporting gis (geographic information systems) technical writing']\n",
            "Row 4: ['art education curriculum program development teacher training communication skills artistic expertise']\n"
          ]
        }
      ],
      "source": [
        "# Fixed: Create Ground Truth Dictionary with Tokenization and Cleaning\n",
        "def create_ground_truth(skills_column, nlp):\n",
        "    ground_truth = {}\n",
        "    for idx, skills in enumerate(skills_column):\n",
        "        if pd.isna(skills):\n",
        "            ground_truth[idx] = []\n",
        "            continue\n",
        "        # Split the string into chunks (assuming comma or newline or semicolon separators)\n",
        "        chunks = re.split(r'[,\\n;]', skills)\n",
        "        keywords = []\n",
        "        for chunk in chunks:\n",
        "            doc = nlp(chunk.strip().lower())\n",
        "            tokens = [token.lemma_ for token in doc if not token.is_stop and not token.is_punct]\n",
        "            keywords.extend(tokens)\n",
        "        ground_truth[idx] = keywords\n",
        "    return ground_truth\n",
        "\n",
        "\n",
        "\n",
        "##### Old Ground Truth generator:\n",
        "# Create Ground Truth Dictionary with Lemmatization and Cleaning\n",
        "# def create_ground_truth(skills_column, nlp):\n",
        "#     ground_truth = {}\n",
        "#     for idx, skills in enumerate(skills_column):\n",
        "#         # Process and clean each skill\n",
        "#         doc = nlp(skills.lower())\n",
        "#         keywords = [token.lemma_ for token in doc if not token.is_stop and not token.is_punct]\n",
        "#         ground_truth[idx] = keywords\n",
        "#     return ground_truth\n",
        "\n",
        "# Generate Ground Truth from 'skills' column\n",
        "# ground_truth = create_ground_truth(data['skills'], nlp)\n",
        "\n",
        "# Display ground truth for verification\n",
        "print(\"Ground Truth (first 5 rows):\")\n",
        "for idx in range(5):\n",
        "    print(f\"Row {idx}: {ground_truth[idx]}\")\n"
      ]
    },
    {
      "cell_type": "code",
      "source": [
        "import re\n",
        "\n",
        "# Generate Ground Truth from 'skills' column\n",
        "ground_truth = create_ground_truth(data['skills'], nlp)"
      ],
      "metadata": {
        "id": "L-Ybyq2JJ9dc"
      },
      "id": "L-Ybyq2JJ9dc",
      "execution_count": 40,
      "outputs": []
    },
    {
      "cell_type": "markdown",
      "id": "82f41039",
      "metadata": {
        "id": "82f41039"
      },
      "source": [
        "## ------------------------------------------------\n",
        "## 8.4 TF-IDF Keyword Extraction\n",
        "## ------------------------------------------------"
      ]
    },
    {
      "cell_type": "code",
      "execution_count": 41,
      "id": "1d59e73e",
      "metadata": {
        "colab": {
          "base_uri": "https://localhost:8080/"
        },
        "id": "1d59e73e",
        "outputId": "a585aa7a-3f38-43d8-ed4a-b7ea2fc226fb"
      },
      "outputs": [
        {
          "output_type": "stream",
          "name": "stdout",
          "text": [
            "TF-IDF Keywords (first 5 rows):\n",
            "Row 0: ['assess', 'chain', 'diversity', 'manage', 'supplier']\n",
            "Row 1: ['accurate', 'aid', 'architectural', 'assist', 'drawing']\n",
            "Row 2: ['appreciation', 'art', 'community', 'coordinator', 'education']\n",
            "Row 3: ['activity', 'adverse', 'analyst', 'assess', 'environmental']\n",
            "Row 4: ['appreciation', 'art', 'community', 'coordinator', 'education']\n"
          ]
        }
      ],
      "source": [
        "# TF-IDF Keyword Extraction\n",
        "vectorizer = TfidfVectorizer(max_features=5)\n",
        "tfidf_keywords = []\n",
        "\n",
        "# Extract top keywords for each processed text\n",
        "for text in data['processed']:\n",
        "    tfidf_matrix = vectorizer.fit_transform([text])\n",
        "    feature_names = [word.lower() for word in vectorizer.get_feature_names_out()]\n",
        "    tfidf_keywords.append(list(feature_names))\n",
        "\n",
        "# Display TF-IDF keywords for first 5 rows\n",
        "print(\"TF-IDF Keywords (first 5 rows):\")\n",
        "for idx, keywords in enumerate(tfidf_keywords[:5]):\n",
        "    print(f\"Row {idx}: {keywords}\")\n"
      ]
    },
    {
      "cell_type": "markdown",
      "id": "f6e4e8fd",
      "metadata": {
        "id": "f6e4e8fd"
      },
      "source": [
        "## ------------------------------------------------\n",
        "## 8.5 NER-Based Keyword Extraction\n",
        "## ------------------------------------------------"
      ]
    },
    {
      "cell_type": "code",
      "execution_count": 42,
      "id": "71469a9c",
      "metadata": {
        "colab": {
          "base_uri": "https://localhost:8080/"
        },
        "id": "71469a9c",
        "outputId": "f07f1668-75a6-43c9-d44b-7d32003a6a67"
      },
      "outputs": [
        {
          "output_type": "stream",
          "name": "stdout",
          "text": [
            "NER-Based Keywords (first 5 rows):\n",
            "Row 0: ['diversity inclusion supply chain', 'supplier diversity program', 'supplier performance']\n",
            "Row 1: ['architectural drafter', 'architect engineer', 'detailed technical drawing plan building structure', 'computer aid design cad software', 'accurate precise architectural drawing']\n",
            "Row 2: ['art education coordinator plan', 'art education program curriculum development educational outreach', 'art appreciation', 'community']\n",
            "Row 3: ['environmental impact analyst', 'environmental consequence project activity conduct study analyze datum', 'recommendation minimize adverse environmental effect', 'sustainable practice']\n",
            "Row 4: ['art education coordinator plan', 'art education program curriculum development educational outreach', 'art appreciation', 'community']\n"
          ]
        }
      ],
      "source": [
        "# NER-Based Keyword Extraction\n",
        "def extract_ner_keywords(text):\n",
        "    doc = nlp(text)\n",
        "    keywords = [chunk.text.lower() for chunk in doc.noun_chunks]\n",
        "    return keywords[:5]  # Return top 5 noun chunks\n",
        "\n",
        "# Apply NER extraction\n",
        "ner_keywords = data['processed'].apply(extract_ner_keywords)\n",
        "\n",
        "# Display NER-based keywords\n",
        "print(\"NER-Based Keywords (first 5 rows):\")\n",
        "for idx, keywords in enumerate(ner_keywords[:5]):\n",
        "    print(f\"Row {idx}: {keywords}\")"
      ]
    },
    {
      "cell_type": "markdown",
      "id": "207ff973",
      "metadata": {
        "id": "207ff973"
      },
      "source": [
        "## ------------------------------------------------\n",
        "## 8.6 BERT-Based Keyword Extraction\n",
        "## ------------------------------------------------"
      ]
    },
    {
      "cell_type": "code",
      "execution_count": 43,
      "id": "5d68f828",
      "metadata": {
        "colab": {
          "base_uri": "https://localhost:8080/"
        },
        "id": "5d68f828",
        "outputId": "9cdae81a-bda9-41e6-850c-7e2ede60ed17"
      },
      "outputs": [
        {
          "output_type": "stream",
          "name": "stdout",
          "text": [
            "BERT-Based Keywords (first 5 rows):\n",
            "Row 0: ['diversity inclusion supply chain', 'supplier diversity program', 'supplier performance']\n",
            "Row 1: ['architectural drafter', 'architect engineer', 'detailed technical drawing plan building structure', 'computer aid design cad software', 'accurate precise architectural drawing']\n",
            "Row 2: ['art education coordinator plan', 'art education program curriculum development educational outreach', 'art appreciation', 'community']\n",
            "Row 3: ['environmental impact analyst', 'environmental consequence project activity conduct study analyze datum', 'recommendation minimize adverse environmental effect', 'sustainable practice']\n",
            "Row 4: ['art education coordinator plan', 'art education program curriculum development educational outreach', 'art appreciation', 'community']\n"
          ]
        }
      ],
      "source": [
        "# BERT-Based Keyword Extraction using Noun Chunks\n",
        "def extract_bert_keywords(text, n=5):\n",
        "    doc = nlp(text)\n",
        "    keywords = [chunk.text.lower() for chunk in doc.noun_chunks]\n",
        "    return keywords[:n]\n",
        "\n",
        "# Apply BERT-based keyword extraction\n",
        "bert_keywords = data['processed'].apply(lambda x: extract_bert_keywords(x, n=5))\n",
        "\n",
        "# Display BERT-based keywords for first 5 rows\n",
        "print(\"BERT-Based Keywords (first 5 rows):\")\n",
        "for idx, keywords in enumerate(bert_keywords[:5]):\n",
        "    print(f\"Row {idx}: {keywords}\")\n"
      ]
    },
    {
      "cell_type": "markdown",
      "id": "757fac0b",
      "metadata": {
        "id": "757fac0b"
      },
      "source": [
        "## ------------------------------------------------\n",
        "## 8.7 Evaluation Metrics Calculation\n",
        "## ------------------------------------------------"
      ]
    },
    {
      "cell_type": "code",
      "execution_count": 44,
      "id": "3d40b1bf",
      "metadata": {
        "id": "3d40b1bf"
      },
      "outputs": [],
      "source": [
        "# Evaluation Metrics Calculation with Cleanup\n",
        "def calculate_metrics(predicted, ground_truth):\n",
        "    precision, recall, f1_results = [], [], []\n",
        "    for i, keywords in enumerate(predicted):\n",
        "        if i in ground_truth:\n",
        "            # Clean and align predicted keywords\n",
        "            predicted_cleaned = [word.strip().lower() for word in keywords]\n",
        "            ground_truth_cleaned = ground_truth[i]\n",
        "\n",
        "            # Binary ground-truth match\n",
        "            y_true = [1 if word in ground_truth_cleaned else 0 for word in predicted_cleaned]\n",
        "            y_pred = [1] * len(predicted_cleaned)\n",
        "\n",
        "            if sum(y_true) > 0:  # Handle edge cases where ground truth exists\n",
        "                precision.append(precision_score(y_true, y_pred))\n",
        "                recall.append(recall_score(y_true, y_pred))\n",
        "                f1_results.append(sklearn_f1_score(y_true, y_pred))  # Use sklearn_f1_score\n",
        "            else:\n",
        "                precision.append(0)\n",
        "                recall.append(0)\n",
        "                f1_results.append(0)\n",
        "    return np.mean(precision), np.mean(recall), np.mean(f1_results)\n"
      ]
    },
    {
      "cell_type": "code",
      "source": [
        "print(\"Length of tfidf_keywords:\", len(tfidf_keywords))\n",
        "print(\"Length of ner_keywords:\", len(ner_keywords))\n",
        "print(\"Length of bert_keywords:\", len(bert_keywords))\n"
      ],
      "metadata": {
        "colab": {
          "base_uri": "https://localhost:8080/"
        },
        "id": "xKMRuhg0Ra0r",
        "outputId": "8795516d-fd54-4d79-85a8-f370ba83cb61"
      },
      "id": "xKMRuhg0Ra0r",
      "execution_count": 50,
      "outputs": [
        {
          "output_type": "stream",
          "name": "stdout",
          "text": [
            "Length of tfidf_keywords: 9500\n",
            "Length of ner_keywords: 9500\n",
            "Length of bert_keywords: 9500\n"
          ]
        }
      ]
    },
    {
      "cell_type": "code",
      "source": [
        "print(\"Type of tfidf_keywords:\", type(tfidf_keywords))\n",
        "print(\"Type of ner_keywords:\", type(ner_keywords))\n",
        "print(\"Type of bert_keywords:\", type(bert_keywords))\n"
      ],
      "metadata": {
        "colab": {
          "base_uri": "https://localhost:8080/"
        },
        "id": "tffX75omRc55",
        "outputId": "71ecc061-77fd-4c27-9bcf-4eefd2976e70"
      },
      "id": "tffX75omRc55",
      "execution_count": 51,
      "outputs": [
        {
          "output_type": "stream",
          "name": "stdout",
          "text": [
            "Type of tfidf_keywords: <class 'list'>\n",
            "Type of ner_keywords: <class 'pandas.core.series.Series'>\n",
            "Type of bert_keywords: <class 'pandas.core.series.Series'>\n"
          ]
        }
      ]
    },
    {
      "cell_type": "code",
      "source": [
        "print(\"First 3 items in tfidf_keywords:\", tfidf_keywords[:3])\n"
      ],
      "metadata": {
        "colab": {
          "base_uri": "https://localhost:8080/"
        },
        "id": "pL3d3sCWRgcf",
        "outputId": "fcc26d99-986c-49dc-af92-d0614879f687"
      },
      "id": "pL3d3sCWRgcf",
      "execution_count": 52,
      "outputs": [
        {
          "output_type": "stream",
          "name": "stdout",
          "text": [
            "First 3 items in tfidf_keywords: [['assess', 'chain', 'diversity', 'manage', 'supplier'], ['accurate', 'aid', 'architectural', 'assist', 'drawing'], ['appreciation', 'art', 'community', 'coordinator', 'education']]\n"
          ]
        }
      ]
    },
    {
      "cell_type": "markdown",
      "source": [
        "## ------------------------------------------------\n",
        "## 8.8 Combined keywords Evaluation\n",
        "## ------------------------------------------------"
      ],
      "metadata": {
        "id": "eIIu92eWTwNd"
      },
      "id": "eIIu92eWTwNd"
    },
    {
      "cell_type": "markdown",
      "source": [],
      "metadata": {
        "id": "akC2uaKSTgiD"
      },
      "id": "akC2uaKSTgiD"
    },
    {
      "cell_type": "code",
      "source": [
        "# Convert Series to lists to ensure proper indexing\n",
        "ner_keywords = ner_keywords.tolist()\n",
        "bert_keywords = bert_keywords.tolist()\n",
        "\n",
        "# Combine all keyword outputs\n",
        "combined_keywords = []\n",
        "for idx in range(len(tfidf_keywords)):\n",
        "    combined = set(tfidf_keywords[idx]) | set(ner_keywords[idx]) | set(bert_keywords[idx])\n",
        "    combined_keywords.append(list(combined))\n",
        "\n",
        "# Tokenize multi-word phrases to align with ground truth\n",
        "combined_keywords_tokenized = flatten_and_tokenize(combined_keywords)\n",
        "\n",
        "# Evaluate\n",
        "combined_precision, combined_recall, combined_f1 = calculate_metrics(combined_keywords_tokenized, ground_truth)\n",
        "\n",
        "print(\"\\n✅ Combined Evaluation:\")\n",
        "print(f\"Precision: {combined_precision:.2f}, Recall: {combined_recall:.2f}, F1-Score: {combined_f1:.2f}\")\n",
        "\n"
      ],
      "metadata": {
        "colab": {
          "base_uri": "https://localhost:8080/"
        },
        "id": "EWyQHVPz7HbL",
        "outputId": "1f2a8329-2e58-476a-c5f1-9b69d580c227"
      },
      "id": "EWyQHVPz7HbL",
      "execution_count": 53,
      "outputs": [
        {
          "output_type": "stream",
          "name": "stdout",
          "text": [
            "\n",
            "✅ Combined Evaluation:\n",
            "Precision: 0.29, Recall: 1.00, F1-Score: 0.44\n"
          ]
        }
      ]
    },
    {
      "cell_type": "markdown",
      "id": "3d101521",
      "metadata": {
        "id": "3d101521"
      },
      "source": [
        "## ------------------------------------------------\n",
        "## 8.9 Evaluate and Compare TF-IDF, NER and BERT\n",
        "## ------------------------------------------------"
      ]
    },
    {
      "cell_type": "code",
      "execution_count": 47,
      "id": "2ac63357",
      "metadata": {
        "colab": {
          "base_uri": "https://localhost:8080/"
        },
        "id": "2ac63357",
        "outputId": "5f164f5a-cc33-4c1f-98d7-23400afdf3f8"
      },
      "outputs": [
        {
          "output_type": "stream",
          "name": "stdout",
          "text": [
            "\n",
            "TF-IDF Evaluation:\n",
            "Precision: 0.37, Recall: 0.96, F1-Score: 0.52\n",
            "\n",
            "NER-Based Evaluation:\n",
            "Precision: 0.03, Recall: 0.09, F1-Score: 0.04\n",
            "\n",
            "BERT-Based Evaluation:\n",
            "Precision: 0.03, Recall: 0.09, F1-Score: 0.04\n"
          ]
        }
      ],
      "source": [
        "# Evaluate TF-IDF Keywords\n",
        "tfidf_precision, tfidf_recall, tfidf_f1 = calculate_metrics(tfidf_keywords, ground_truth)\n",
        "print(\"\\nTF-IDF Evaluation:\")\n",
        "print(f\"Precision: {tfidf_precision:.2f}, Recall: {tfidf_recall:.2f}, F1-Score: {tfidf_f1:.2f}\")\n",
        "\n",
        "# Evaluate NER Keywords\n",
        "ner_precision, ner_recall, ner_f1 = calculate_metrics(ner_keywords, ground_truth)\n",
        "print(\"\\nNER-Based Evaluation:\")\n",
        "print(f\"Precision: {ner_precision:.2f}, Recall: {ner_recall:.2f}, F1-Score: {ner_f1:.2f}\")\n",
        "\n",
        "# Evaluate BERT-Based Keywords\n",
        "bert_precision, bert_recall, bert_f1 = calculate_metrics(bert_keywords, ground_truth)\n",
        "print(\"\\nBERT-Based Evaluation:\")\n",
        "print(f\"Precision: {bert_precision:.2f}, Recall: {bert_recall:.2f}, F1-Score: {bert_f1:.2f}\")\n"
      ]
    },
    {
      "cell_type": "markdown",
      "id": "2e4351bd",
      "metadata": {
        "id": "2e4351bd"
      },
      "source": [
        "## ------------------------------------------------\n",
        "## 9 Visual Comparison\n",
        "## ------------------------------------------------"
      ]
    },
    {
      "cell_type": "code",
      "execution_count": 54,
      "id": "89c82c55",
      "metadata": {
        "colab": {
          "base_uri": "https://localhost:8080/",
          "height": 607
        },
        "id": "89c82c55",
        "outputId": "24243e12-cc35-441a-890b-8f76e636671d"
      },
      "outputs": [
        {
          "output_type": "display_data",
          "data": {
            "text/plain": [
              "<Figure size 1000x600 with 1 Axes>"
            ],
            "image/png": "[encoded data removed]"
          },
          "metadata": {}
        }
      ],
      "source": [
        "# Updated Evaluation Chart with Combined Approach\n",
        "\n",
        "methods = ['TF-IDF', 'NER', 'BERT', 'Combined']\n",
        "precision_scores = [tfidf_precision, ner_precision, bert_precision, combined_precision]\n",
        "recall_scores = [tfidf_recall, ner_recall, bert_recall, combined_recall]\n",
        "f1_scores = [tfidf_f1, ner_f1, bert_f1, combined_f1]\n",
        "\n",
        "x = np.arange(len(methods))  # label locations\n",
        "width = 0.25  # width of the bars\n",
        "\n",
        "fig, ax = plt.subplots(figsize=(10, 6))\n",
        "bars1 = ax.bar(x - width, precision_scores, width, label='Precision')\n",
        "bars2 = ax.bar(x, recall_scores, width, label='Recall')\n",
        "bars3 = ax.bar(x + width, f1_scores, width, label='F1-Score')\n",
        "\n",
        "# Add labels and title\n",
        "ax.set_ylabel('Score')\n",
        "ax.set_title('Precision, Recall, and F1-Score by Extraction Method')\n",
        "ax.set_xticks(x)\n",
        "ax.set_xticklabels(methods)\n",
        "ax.set_ylim([0, 1.1])\n",
        "ax.legend()\n",
        "\n",
        "# Add value labels on top of bars\n",
        "for bars in [bars1, bars2, bars3]:\n",
        "    for bar in bars:\n",
        "        height = bar.get_height()\n",
        "        ax.annotate(f'{height:.2f}',\n",
        "                    xy=(bar.get_x() + bar.get_width() / 2, height),\n",
        "                    xytext=(0, 3),  # offset\n",
        "                    textcoords=\"offset points\",\n",
        "                    ha='center', va='bottom')\n",
        "\n",
        "plt.grid(axis='y', linestyle='--', alpha=0.7)\n",
        "plt.tight_layout()\n",
        "plt.show()\n"
      ]
    },
    {
      "cell_type": "code",
      "source": [],
      "metadata": {
        "id": "WrvfR70-5lW4"
      },
      "id": "WrvfR70-5lW4",
      "execution_count": null,
      "outputs": []
    }
  ],
  "metadata": {
    "kernelspec": {
      "display_name": "Python 3.10 (venv_project)",
      "language": "python",
      "name": "venv_project"
    },
    "language_info": {
      "codemirror_mode": {
        "name": "ipython",
        "version": 3
      },
      "file_extension": ".py",
      "mimetype": "text/x-python",
      "name": "python",
      "nbconvert_exporter": "python",
      "pygments_lexer": "ipython3",
      "version": "3.10.16"
    },
    "colab": {
      "provenance": [],
      "machine_shape": "hm",
      "gpuType": "L4"
    },
    "accelerator": "GPU",
    "widgets": {
      "application/vnd.jupyter.widget-state+json": {
        "9e2b802c128e44b7a72845fa3088bcba": {
          "model_module": "@jupyter-widgets/controls",
          "model_name": "HBoxModel",
          "model_module_version": "1.5.0",
          "state": {
            "_dom_classes": [],
            "_model_module": "@jupyter-widgets/controls",
            "_model_module_version": "1.5.0",
            "_model_name": "HBoxModel",
            "_view_count": null,
            "_view_module": "@jupyter-widgets/controls",
            "_view_module_version": "1.5.0",
            "_view_name": "HBoxView",
            "box_style": "",
            "children": [
              "IPY_MODEL_ad600a60fbf94e18b154158bc109e8fd",
              "IPY_MODEL_1c2ca8eead574cb9b4741ba1d540d666",
              "IPY_MODEL_241a3571e31a42d3a555a31593279a16"
            ],
            "layout": "IPY_MODEL_3371cba7141f401d92b41d8a351a9816"
          }
        },
        "ad600a60fbf94e18b154158bc109e8fd": {
          "model_module": "@jupyter-widgets/controls",
          "model_name": "HTMLModel",
          "model_module_version": "1.5.0",
          "state": {
            "_dom_classes": [],
            "_model_module": "@jupyter-widgets/controls",
            "_model_module_version": "1.5.0",
            "_model_name": "HTMLModel",
            "_view_count": null,
            "_view_module": "@jupyter-widgets/controls",
            "_view_module_version": "1.5.0",
            "_view_name": "HTMLView",
            "description": "",
            "description_tooltip": null,
            "layout": "IPY_MODEL_c7b5504f558346e3b01e529a0f63c2e6",
            "placeholder": "​",
            "style": "IPY_MODEL_deb0e74e251c49b5b099d5f0f408463a",
            "value": "config.json: 100%"
          }
        },
        "1c2ca8eead574cb9b4741ba1d540d666": {
          "model_module": "@jupyter-widgets/controls",
          "model_name": "FloatProgressModel",
          "model_module_version": "1.5.0",
          "state": {
            "_dom_classes": [],
            "_model_module": "@jupyter-widgets/controls",
            "_model_module_version": "1.5.0",
            "_model_name": "FloatProgressModel",
            "_view_count": null,
            "_view_module": "@jupyter-widgets/controls",
            "_view_module_version": "1.5.0",
            "_view_name": "ProgressView",
            "bar_style": "success",
            "description": "",
            "description_tooltip": null,
            "layout": "IPY_MODEL_b0f5757d327c4df7b269d6dd53c75f25",
            "max": 570,
            "min": 0,
            "orientation": "horizontal",
            "style": "IPY_MODEL_76ca7d0640f94aec81526d101325633f",
            "value": 570
          }
        },
        "241a3571e31a42d3a555a31593279a16": {
          "model_module": "@jupyter-widgets/controls",
          "model_name": "HTMLModel",
          "model_module_version": "1.5.0",
          "state": {
            "_dom_classes": [],
            "_model_module": "@jupyter-widgets/controls",
            "_model_module_version": "1.5.0",
            "_model_name": "HTMLModel",
            "_view_count": null,
            "_view_module": "@jupyter-widgets/controls",
            "_view_module_version": "1.5.0",
            "_view_name": "HTMLView",
            "description": "",
            "description_tooltip": null,
            "layout": "IPY_MODEL_bb5adee696734a19b7b858f5e7a1eb4a",
            "placeholder": "​",
            "style": "IPY_MODEL_a27614b9c99945ed984d424dc2ff53cc",
            "value": " 570/570 [00:00&lt;00:00, 68.2kB/s]"
          }
        },
        "3371cba7141f401d92b41d8a351a9816": {
          "model_module": "@jupyter-widgets/base",
          "model_name": "LayoutModel",
          "model_module_version": "1.2.0",
          "state": {
            "_model_module": "@jupyter-widgets/base",
            "_model_module_version": "1.2.0",
            "_model_name": "LayoutModel",
            "_view_count": null,
            "_view_module": "@jupyter-widgets/base",
            "_view_module_version": "1.2.0",
            "_view_name": "LayoutView",
            "align_content": null,
            "align_items": null,
            "align_self": null,
            "border": null,
            "bottom": null,
            "display": null,
            "flex": null,
            "flex_flow": null,
            "grid_area": null,
            "grid_auto_columns": null,
            "grid_auto_flow": null,
            "grid_auto_rows": null,
            "grid_column": null,
            "grid_gap": null,
            "grid_row": null,
            "grid_template_areas": null,
            "grid_template_columns": null,
            "grid_template_rows": null,
            "height": null,
            "justify_content": null,
            "justify_items": null,
            "left": null,
            "margin": null,
            "max_height": null,
            "max_width": null,
            "min_height": null,
            "min_width": null,
            "object_fit": null,
            "object_position": null,
            "order": null,
            "overflow": null,
            "overflow_x": null,
            "overflow_y": null,
            "padding": null,
            "right": null,
            "top": null,
            "visibility": null,
            "width": null
          }
        },
        "c7b5504f558346e3b01e529a0f63c2e6": {
          "model_module": "@jupyter-widgets/base",
          "model_name": "LayoutModel",
          "model_module_version": "1.2.0",
          "state": {
            "_model_module": "@jupyter-widgets/base",
            "_model_module_version": "1.2.0",
            "_model_name": "LayoutModel",
            "_view_count": null,
            "_view_module": "@jupyter-widgets/base",
            "_view_module_version": "1.2.0",
            "_view_name": "LayoutView",
            "align_content": null,
            "align_items": null,
            "align_self": null,
            "border": null,
            "bottom": null,
            "display": null,
            "flex": null,
            "flex_flow": null,
            "grid_area": null,
            "grid_auto_columns": null,
            "grid_auto_flow": null,
            "grid_auto_rows": null,
            "grid_column": null,
            "grid_gap": null,
            "grid_row": null,
            "grid_template_areas": null,
            "grid_template_columns": null,
            "grid_template_rows": null,
            "height": null,
            "justify_content": null,
            "justify_items": null,
            "left": null,
            "margin": null,
            "max_height": null,
            "max_width": null,
            "min_height": null,
            "min_width": null,
            "object_fit": null,
            "object_position": null,
            "order": null,
            "overflow": null,
            "overflow_x": null,
            "overflow_y": null,
            "padding": null,
            "right": null,
            "top": null,
            "visibility": null,
            "width": null
          }
        },
        "deb0e74e251c49b5b099d5f0f408463a": {
          "model_module": "@jupyter-widgets/controls",
          "model_name": "DescriptionStyleModel",
          "model_module_version": "1.5.0",
          "state": {
            "_model_module": "@jupyter-widgets/controls",
            "_model_module_version": "1.5.0",
            "_model_name": "DescriptionStyleModel",
            "_view_count": null,
            "_view_module": "@jupyter-widgets/base",
            "_view_module_version": "1.2.0",
            "_view_name": "StyleView",
            "description_width": ""
          }
        },
        "b0f5757d327c4df7b269d6dd53c75f25": {
          "model_module": "@jupyter-widgets/base",
          "model_name": "LayoutModel",
          "model_module_version": "1.2.0",
          "state": {
            "_model_module": "@jupyter-widgets/base",
            "_model_module_version": "1.2.0",
            "_model_name": "LayoutModel",
            "_view_count": null,
            "_view_module": "@jupyter-widgets/base",
            "_view_module_version": "1.2.0",
            "_view_name": "LayoutView",
            "align_content": null,
            "align_items": null,
            "align_self": null,
            "border": null,
            "bottom": null,
            "display": null,
            "flex": null,
            "flex_flow": null,
            "grid_area": null,
            "grid_auto_columns": null,
            "grid_auto_flow": null,
            "grid_auto_rows": null,
            "grid_column": null,
            "grid_gap": null,
            "grid_row": null,
            "grid_template_areas": null,
            "grid_template_columns": null,
            "grid_template_rows": null,
            "height": null,
            "justify_content": null,
            "justify_items": null,
            "left": null,
            "margin": null,
            "max_height": null,
            "max_width": null,
            "min_height": null,
            "min_width": null,
            "object_fit": null,
            "object_position": null,
            "order": null,
            "overflow": null,
            "overflow_x": null,
            "overflow_y": null,
            "padding": null,
            "right": null,
            "top": null,
            "visibility": null,
            "width": null
          }
        },
        "76ca7d0640f94aec81526d101325633f": {
          "model_module": "@jupyter-widgets/controls",
          "model_name": "ProgressStyleModel",
          "model_module_version": "1.5.0",
          "state": {
            "_model_module": "@jupyter-widgets/controls",
            "_model_module_version": "1.5.0",
            "_model_name": "ProgressStyleModel",
            "_view_count": null,
            "_view_module": "@jupyter-widgets/base",
            "_view_module_version": "1.2.0",
            "_view_name": "StyleView",
            "bar_color": null,
            "description_width": ""
          }
        },
        "bb5adee696734a19b7b858f5e7a1eb4a": {
          "model_module": "@jupyter-widgets/base",
          "model_name": "LayoutModel",
          "model_module_version": "1.2.0",
          "state": {
            "_model_module": "@jupyter-widgets/base",
            "_model_module_version": "1.2.0",
            "_model_name": "LayoutModel",
            "_view_count": null,
            "_view_module": "@jupyter-widgets/base",
            "_view_module_version": "1.2.0",
            "_view_name": "LayoutView",
            "align_content": null,
            "align_items": null,
            "align_self": null,
            "border": null,
            "bottom": null,
            "display": null,
            "flex": null,
            "flex_flow": null,
            "grid_area": null,
            "grid_auto_columns": null,
            "grid_auto_flow": null,
            "grid_auto_rows": null,
            "grid_column": null,
            "grid_gap": null,
            "grid_row": null,
            "grid_template_areas": null,
            "grid_template_columns": null,
            "grid_template_rows": null,
            "height": null,
            "justify_content": null,
            "justify_items": null,
            "left": null,
            "margin": null,
            "max_height": null,
            "max_width": null,
            "min_height": null,
            "min_width": null,
            "object_fit": null,
            "object_position": null,
            "order": null,
            "overflow": null,
            "overflow_x": null,
            "overflow_y": null,
            "padding": null,
            "right": null,
            "top": null,
            "visibility": null,
            "width": null
          }
        },
        "a27614b9c99945ed984d424dc2ff53cc": {
          "model_module": "@jupyter-widgets/controls",
          "model_name": "DescriptionStyleModel",
          "model_module_version": "1.5.0",
          "state": {
            "_model_module": "@jupyter-widgets/controls",
            "_model_module_version": "1.5.0",
            "_model_name": "DescriptionStyleModel",
            "_view_count": null,
            "_view_module": "@jupyter-widgets/base",
            "_view_module_version": "1.2.0",
            "_view_name": "StyleView",
            "description_width": ""
          }
        },
        "0bf76f88f5ae470aaab6eeee775fccaa": {
          "model_module": "@jupyter-widgets/controls",
          "model_name": "HBoxModel",
          "model_module_version": "1.5.0",
          "state": {
            "_dom_classes": [],
            "_model_module": "@jupyter-widgets/controls",
            "_model_module_version": "1.5.0",
            "_model_name": "HBoxModel",
            "_view_count": null,
            "_view_module": "@jupyter-widgets/controls",
            "_view_module_version": "1.5.0",
            "_view_name": "HBoxView",
            "box_style": "",
            "children": [
              "IPY_MODEL_e6fc5ab4a2ef4b098fe637e731f68d81",
              "IPY_MODEL_12461948607f4b4189ca90c4305b92d8",
              "IPY_MODEL_6f4d9e019a4540d5a96746f4717599d3"
            ],
            "layout": "IPY_MODEL_67b4d2322fe44d1e8fd9ba0f58361ce8"
          }
        },
        "e6fc5ab4a2ef4b098fe637e731f68d81": {
          "model_module": "@jupyter-widgets/controls",
          "model_name": "HTMLModel",
          "model_module_version": "1.5.0",
          "state": {
            "_dom_classes": [],
            "_model_module": "@jupyter-widgets/controls",
            "_model_module_version": "1.5.0",
            "_model_name": "HTMLModel",
            "_view_count": null,
            "_view_module": "@jupyter-widgets/controls",
            "_view_module_version": "1.5.0",
            "_view_name": "HTMLView",
            "description": "",
            "description_tooltip": null,
            "layout": "IPY_MODEL_e1df6e539de544599048a21e34ca381d",
            "placeholder": "​",
            "style": "IPY_MODEL_97eab48f3dfb4ba3a5d3c808b1badedb",
            "value": "model.safetensors: 100%"
          }
        },
        "12461948607f4b4189ca90c4305b92d8": {
          "model_module": "@jupyter-widgets/controls",
          "model_name": "FloatProgressModel",
          "model_module_version": "1.5.0",
          "state": {
            "_dom_classes": [],
            "_model_module": "@jupyter-widgets/controls",
            "_model_module_version": "1.5.0",
            "_model_name": "FloatProgressModel",
            "_view_count": null,
            "_view_module": "@jupyter-widgets/controls",
            "_view_module_version": "1.5.0",
            "_view_name": "ProgressView",
            "bar_style": "success",
            "description": "",
            "description_tooltip": null,
            "layout": "IPY_MODEL_79942491fbda4027b8aa165d83af0ed5",
            "max": 440449768,
            "min": 0,
            "orientation": "horizontal",
            "style": "IPY_MODEL_ebcc3770ec804560905efb0509037fee",
            "value": 440449768
          }
        },
        "6f4d9e019a4540d5a96746f4717599d3": {
          "model_module": "@jupyter-widgets/controls",
          "model_name": "HTMLModel",
          "model_module_version": "1.5.0",
          "state": {
            "_dom_classes": [],
            "_model_module": "@jupyter-widgets/controls",
            "_model_module_version": "1.5.0",
            "_model_name": "HTMLModel",
            "_view_count": null,
            "_view_module": "@jupyter-widgets/controls",
            "_view_module_version": "1.5.0",
            "_view_name": "HTMLView",
            "description": "",
            "description_tooltip": null,
            "layout": "IPY_MODEL_c60cdef337d440f386f2c0e7e0eff2dd",
            "placeholder": "​",
            "style": "IPY_MODEL_f9edf80a6b0e40c2b441ecfb97d7e031",
            "value": " 440M/440M [00:01&lt;00:00, 384MB/s]"
          }
        },
        "67b4d2322fe44d1e8fd9ba0f58361ce8": {
          "model_module": "@jupyter-widgets/base",
          "model_name": "LayoutModel",
          "model_module_version": "1.2.0",
          "state": {
            "_model_module": "@jupyter-widgets/base",
            "_model_module_version": "1.2.0",
            "_model_name": "LayoutModel",
            "_view_count": null,
            "_view_module": "@jupyter-widgets/base",
            "_view_module_version": "1.2.0",
            "_view_name": "LayoutView",
            "align_content": null,
            "align_items": null,
            "align_self": null,
            "border": null,
            "bottom": null,
            "display": null,
            "flex": null,
            "flex_flow": null,
            "grid_area": null,
            "grid_auto_columns": null,
            "grid_auto_flow": null,
            "grid_auto_rows": null,
            "grid_column": null,
            "grid_gap": null,
            "grid_row": null,
            "grid_template_areas": null,
            "grid_template_columns": null,
            "grid_template_rows": null,
            "height": null,
            "justify_content": null,
            "justify_items": null,
            "left": null,
            "margin": null,
            "max_height": null,
            "max_width": null,
            "min_height": null,
            "min_width": null,
            "object_fit": null,
            "object_position": null,
            "order": null,
            "overflow": null,
            "overflow_x": null,
            "overflow_y": null,
            "padding": null,
            "right": null,
            "top": null,
            "visibility": null,
            "width": null
          }
        },
        "e1df6e539de544599048a21e34ca381d": {
          "model_module": "@jupyter-widgets/base",
          "model_name": "LayoutModel",
          "model_module_version": "1.2.0",
          "state": {
            "_model_module": "@jupyter-widgets/base",
            "_model_module_version": "1.2.0",
            "_model_name": "LayoutModel",
            "_view_count": null,
            "_view_module": "@jupyter-widgets/base",
            "_view_module_version": "1.2.0",
            "_view_name": "LayoutView",
            "align_content": null,
            "align_items": null,
            "align_self": null,
            "border": null,
            "bottom": null,
            "display": null,
            "flex": null,
            "flex_flow": null,
            "grid_area": null,
            "grid_auto_columns": null,
            "grid_auto_flow": null,
            "grid_auto_rows": null,
            "grid_column": null,
            "grid_gap": null,
            "grid_row": null,
            "grid_template_areas": null,
            "grid_template_columns": null,
            "grid_template_rows": null,
            "height": null,
            "justify_content": null,
            "justify_items": null,
            "left": null,
            "margin": null,
            "max_height": null,
            "max_width": null,
            "min_height": null,
            "min_width": null,
            "object_fit": null,
            "object_position": null,
            "order": null,
            "overflow": null,
            "overflow_x": null,
            "overflow_y": null,
            "padding": null,
            "right": null,
            "top": null,
            "visibility": null,
            "width": null
          }
        },
        "97eab48f3dfb4ba3a5d3c808b1badedb": {
          "model_module": "@jupyter-widgets/controls",
          "model_name": "DescriptionStyleModel",
          "model_module_version": "1.5.0",
          "state": {
            "_model_module": "@jupyter-widgets/controls",
            "_model_module_version": "1.5.0",
            "_model_name": "DescriptionStyleModel",
            "_view_count": null,
            "_view_module": "@jupyter-widgets/base",
            "_view_module_version": "1.2.0",
            "_view_name": "StyleView",
            "description_width": ""
          }
        },
        "79942491fbda4027b8aa165d83af0ed5": {
          "model_module": "@jupyter-widgets/base",
          "model_name": "LayoutModel",
          "model_module_version": "1.2.0",
          "state": {
            "_model_module": "@jupyter-widgets/base",
            "_model_module_version": "1.2.0",
            "_model_name": "LayoutModel",
            "_view_count": null,
            "_view_module": "@jupyter-widgets/base",
            "_view_module_version": "1.2.0",
            "_view_name": "LayoutView",
            "align_content": null,
            "align_items": null,
            "align_self": null,
            "border": null,
            "bottom": null,
            "display": null,
            "flex": null,
            "flex_flow": null,
            "grid_area": null,
            "grid_auto_columns": null,
            "grid_auto_flow": null,
            "grid_auto_rows": null,
            "grid_column": null,
            "grid_gap": null,
            "grid_row": null,
            "grid_template_areas": null,
            "grid_template_columns": null,
            "grid_template_rows": null,
            "height": null,
            "justify_content": null,
            "justify_items": null,
            "left": null,
            "margin": null,
            "max_height": null,
            "max_width": null,
            "min_height": null,
            "min_width": null,
            "object_fit": null,
            "object_position": null,
            "order": null,
            "overflow": null,
            "overflow_x": null,
            "overflow_y": null,
            "padding": null,
            "right": null,
            "top": null,
            "visibility": null,
            "width": null
          }
        },
        "ebcc3770ec804560905efb0509037fee": {
          "model_module": "@jupyter-widgets/controls",
          "model_name": "ProgressStyleModel",
          "model_module_version": "1.5.0",
          "state": {
            "_model_module": "@jupyter-widgets/controls",
            "_model_module_version": "1.5.0",
            "_model_name": "ProgressStyleModel",
            "_view_count": null,
            "_view_module": "@jupyter-widgets/base",
            "_view_module_version": "1.2.0",
            "_view_name": "StyleView",
            "bar_color": null,
            "description_width": ""
          }
        },
        "c60cdef337d440f386f2c0e7e0eff2dd": {
          "model_module": "@jupyter-widgets/base",
          "model_name": "LayoutModel",
          "model_module_version": "1.2.0",
          "state": {
            "_model_module": "@jupyter-widgets/base",
            "_model_module_version": "1.2.0",
            "_model_name": "LayoutModel",
            "_view_count": null,
            "_view_module": "@jupyter-widgets/base",
            "_view_module_version": "1.2.0",
            "_view_name": "LayoutView",
            "align_content": null,
            "align_items": null,
            "align_self": null,
            "border": null,
            "bottom": null,
            "display": null,
            "flex": null,
            "flex_flow": null,
            "grid_area": null,
            "grid_auto_columns": null,
            "grid_auto_flow": null,
            "grid_auto_rows": null,
            "grid_column": null,
            "grid_gap": null,
            "grid_row": null,
            "grid_template_areas": null,
            "grid_template_columns": null,
            "grid_template_rows": null,
            "height": null,
            "justify_content": null,
            "justify_items": null,
            "left": null,
            "margin": null,
            "max_height": null,
            "max_width": null,
            "min_height": null,
            "min_width": null,
            "object_fit": null,
            "object_position": null,
            "order": null,
            "overflow": null,
            "overflow_x": null,
            "overflow_y": null,
            "padding": null,
            "right": null,
            "top": null,
            "visibility": null,
            "width": null
          }
        },
        "f9edf80a6b0e40c2b441ecfb97d7e031": {
          "model_module": "@jupyter-widgets/controls",
          "model_name": "DescriptionStyleModel",
          "model_module_version": "1.5.0",
          "state": {
            "_model_module": "@jupyter-widgets/controls",
            "_model_module_version": "1.5.0",
            "_model_name": "DescriptionStyleModel",
            "_view_count": null,
            "_view_module": "@jupyter-widgets/base",
            "_view_module_version": "1.2.0",
            "_view_name": "StyleView",
            "description_width": ""
          }
        },
        "939e301887f8443eb95810a8ea651c0f": {
          "model_module": "@jupyter-widgets/controls",
          "model_name": "HBoxModel",
          "model_module_version": "1.5.0",
          "state": {
            "_dom_classes": [],
            "_model_module": "@jupyter-widgets/controls",
            "_model_module_version": "1.5.0",
            "_model_name": "HBoxModel",
            "_view_count": null,
            "_view_module": "@jupyter-widgets/controls",
            "_view_module_version": "1.5.0",
            "_view_name": "HBoxView",
            "box_style": "",
            "children": [
              "IPY_MODEL_d84457210e864ca1bdbf403671267b17",
              "IPY_MODEL_0e5d5ac46a794085a6f38b7b875ecb97",
              "IPY_MODEL_651bae17de48482faee7159d4a01d785"
            ],
            "layout": "IPY_MODEL_1df63d5076784f8698a0d1af2ae6df77"
          }
        },
        "d84457210e864ca1bdbf403671267b17": {
          "model_module": "@jupyter-widgets/controls",
          "model_name": "HTMLModel",
          "model_module_version": "1.5.0",
          "state": {
            "_dom_classes": [],
            "_model_module": "@jupyter-widgets/controls",
            "_model_module_version": "1.5.0",
            "_model_name": "HTMLModel",
            "_view_count": null,
            "_view_module": "@jupyter-widgets/controls",
            "_view_module_version": "1.5.0",
            "_view_name": "HTMLView",
            "description": "",
            "description_tooltip": null,
            "layout": "IPY_MODEL_940103155db342fb8bf5420e3fa6b6ea",
            "placeholder": "​",
            "style": "IPY_MODEL_443ef50eaf6f4e65bc1f1a66574e75d3",
            "value": "tokenizer_config.json: 100%"
          }
        },
        "0e5d5ac46a794085a6f38b7b875ecb97": {
          "model_module": "@jupyter-widgets/controls",
          "model_name": "FloatProgressModel",
          "model_module_version": "1.5.0",
          "state": {
            "_dom_classes": [],
            "_model_module": "@jupyter-widgets/controls",
            "_model_module_version": "1.5.0",
            "_model_name": "FloatProgressModel",
            "_view_count": null,
            "_view_module": "@jupyter-widgets/controls",
            "_view_module_version": "1.5.0",
            "_view_name": "ProgressView",
            "bar_style": "success",
            "description": "",
            "description_tooltip": null,
            "layout": "IPY_MODEL_2d0bcb170a7f4a3a91987d6b47cafe79",
            "max": 48,
            "min": 0,
            "orientation": "horizontal",
            "style": "IPY_MODEL_dd71a06e2a2a445c92a04824188693c3",
            "value": 48
          }
        },
        "651bae17de48482faee7159d4a01d785": {
          "model_module": "@jupyter-widgets/controls",
          "model_name": "HTMLModel",
          "model_module_version": "1.5.0",
          "state": {
            "_dom_classes": [],
            "_model_module": "@jupyter-widgets/controls",
            "_model_module_version": "1.5.0",
            "_model_name": "HTMLModel",
            "_view_count": null,
            "_view_module": "@jupyter-widgets/controls",
            "_view_module_version": "1.5.0",
            "_view_name": "HTMLView",
            "description": "",
            "description_tooltip": null,
            "layout": "IPY_MODEL_4aa455aebe5744f390de8a796be06356",
            "placeholder": "​",
            "style": "IPY_MODEL_5f8c9639c40e4c87ae7a3138856af287",
            "value": " 48.0/48.0 [00:00&lt;00:00, 5.78kB/s]"
          }
        },
        "1df63d5076784f8698a0d1af2ae6df77": {
          "model_module": "@jupyter-widgets/base",
          "model_name": "LayoutModel",
          "model_module_version": "1.2.0",
          "state": {
            "_model_module": "@jupyter-widgets/base",
            "_model_module_version": "1.2.0",
            "_model_name": "LayoutModel",
            "_view_count": null,
            "_view_module": "@jupyter-widgets/base",
            "_view_module_version": "1.2.0",
            "_view_name": "LayoutView",
            "align_content": null,
            "align_items": null,
            "align_self": null,
            "border": null,
            "bottom": null,
            "display": null,
            "flex": null,
            "flex_flow": null,
            "grid_area": null,
            "grid_auto_columns": null,
            "grid_auto_flow": null,
            "grid_auto_rows": null,
            "grid_column": null,
            "grid_gap": null,
            "grid_row": null,
            "grid_template_areas": null,
            "grid_template_columns": null,
            "grid_template_rows": null,
            "height": null,
            "justify_content": null,
            "justify_items": null,
            "left": null,
            "margin": null,
            "max_height": null,
            "max_width": null,
            "min_height": null,
            "min_width": null,
            "object_fit": null,
            "object_position": null,
            "order": null,
            "overflow": null,
            "overflow_x": null,
            "overflow_y": null,
            "padding": null,
            "right": null,
            "top": null,
            "visibility": null,
            "width": null
          }
        },
        "940103155db342fb8bf5420e3fa6b6ea": {
          "model_module": "@jupyter-widgets/base",
          "model_name": "LayoutModel",
          "model_module_version": "1.2.0",
          "state": {
            "_model_module": "@jupyter-widgets/base",
            "_model_module_version": "1.2.0",
            "_model_name": "LayoutModel",
            "_view_count": null,
            "_view_module": "@jupyter-widgets/base",
            "_view_module_version": "1.2.0",
            "_view_name": "LayoutView",
            "align_content": null,
            "align_items": null,
            "align_self": null,
            "border": null,
            "bottom": null,
            "display": null,
            "flex": null,
            "flex_flow": null,
            "grid_area": null,
            "grid_auto_columns": null,
            "grid_auto_flow": null,
            "grid_auto_rows": null,
            "grid_column": null,
            "grid_gap": null,
            "grid_row": null,
            "grid_template_areas": null,
            "grid_template_columns": null,
            "grid_template_rows": null,
            "height": null,
            "justify_content": null,
            "justify_items": null,
            "left": null,
            "margin": null,
            "max_height": null,
            "max_width": null,
            "min_height": null,
            "min_width": null,
            "object_fit": null,
            "object_position": null,
            "order": null,
            "overflow": null,
            "overflow_x": null,
            "overflow_y": null,
            "padding": null,
            "right": null,
            "top": null,
            "visibility": null,
            "width": null
          }
        },
        "443ef50eaf6f4e65bc1f1a66574e75d3": {
          "model_module": "@jupyter-widgets/controls",
          "model_name": "DescriptionStyleModel",
          "model_module_version": "1.5.0",
          "state": {
            "_model_module": "@jupyter-widgets/controls",
            "_model_module_version": "1.5.0",
            "_model_name": "DescriptionStyleModel",
            "_view_count": null,
            "_view_module": "@jupyter-widgets/base",
            "_view_module_version": "1.2.0",
            "_view_name": "StyleView",
            "description_width": ""
          }
        },
        "2d0bcb170a7f4a3a91987d6b47cafe79": {
          "model_module": "@jupyter-widgets/base",
          "model_name": "LayoutModel",
          "model_module_version": "1.2.0",
          "state": {
            "_model_module": "@jupyter-widgets/base",
            "_model_module_version": "1.2.0",
            "_model_name": "LayoutModel",
            "_view_count": null,
            "_view_module": "@jupyter-widgets/base",
            "_view_module_version": "1.2.0",
            "_view_name": "LayoutView",
            "align_content": null,
            "align_items": null,
            "align_self": null,
            "border": null,
            "bottom": null,
            "display": null,
            "flex": null,
            "flex_flow": null,
            "grid_area": null,
            "grid_auto_columns": null,
            "grid_auto_flow": null,
            "grid_auto_rows": null,
            "grid_column": null,
            "grid_gap": null,
            "grid_row": null,
            "grid_template_areas": null,
            "grid_template_columns": null,
            "grid_template_rows": null,
            "height": null,
            "justify_content": null,
            "justify_items": null,
            "left": null,
            "margin": null,
            "max_height": null,
            "max_width": null,
            "min_height": null,
            "min_width": null,
            "object_fit": null,
            "object_position": null,
            "order": null,
            "overflow": null,
            "overflow_x": null,
            "overflow_y": null,
            "padding": null,
            "right": null,
            "top": null,
            "visibility": null,
            "width": null
          }
        },
        "dd71a06e2a2a445c92a04824188693c3": {
          "model_module": "@jupyter-widgets/controls",
          "model_name": "ProgressStyleModel",
          "model_module_version": "1.5.0",
          "state": {
            "_model_module": "@jupyter-widgets/controls",
            "_model_module_version": "1.5.0",
            "_model_name": "ProgressStyleModel",
            "_view_count": null,
            "_view_module": "@jupyter-widgets/base",
            "_view_module_version": "1.2.0",
            "_view_name": "StyleView",
            "bar_color": null,
            "description_width": ""
          }
        },
        "4aa455aebe5744f390de8a796be06356": {
          "model_module": "@jupyter-widgets/base",
          "model_name": "LayoutModel",
          "model_module_version": "1.2.0",
          "state": {
            "_model_module": "@jupyter-widgets/base",
            "_model_module_version": "1.2.0",
            "_model_name": "LayoutModel",
            "_view_count": null,
            "_view_module": "@jupyter-widgets/base",
            "_view_module_version": "1.2.0",
            "_view_name": "LayoutView",
            "align_content": null,
            "align_items": null,
            "align_self": null,
            "border": null,
            "bottom": null,
            "display": null,
            "flex": null,
            "flex_flow": null,
            "grid_area": null,
            "grid_auto_columns": null,
            "grid_auto_flow": null,
            "grid_auto_rows": null,
            "grid_column": null,
            "grid_gap": null,
            "grid_row": null,
            "grid_template_areas": null,
            "grid_template_columns": null,
            "grid_template_rows": null,
            "height": null,
            "justify_content": null,
            "justify_items": null,
            "left": null,
            "margin": null,
            "max_height": null,
            "max_width": null,
            "min_height": null,
            "min_width": null,
            "object_fit": null,
            "object_position": null,
            "order": null,
            "overflow": null,
            "overflow_x": null,
            "overflow_y": null,
            "padding": null,
            "right": null,
            "top": null,
            "visibility": null,
            "width": null
          }
        },
        "5f8c9639c40e4c87ae7a3138856af287": {
          "model_module": "@jupyter-widgets/controls",
          "model_name": "DescriptionStyleModel",
          "model_module_version": "1.5.0",
          "state": {
            "_model_module": "@jupyter-widgets/controls",
            "_model_module_version": "1.5.0",
            "_model_name": "DescriptionStyleModel",
            "_view_count": null,
            "_view_module": "@jupyter-widgets/base",
            "_view_module_version": "1.2.0",
            "_view_name": "StyleView",
            "description_width": ""
          }
        },
        "be10910fda404388bd1eb2662a7674a3": {
          "model_module": "@jupyter-widgets/controls",
          "model_name": "HBoxModel",
          "model_module_version": "1.5.0",
          "state": {
            "_dom_classes": [],
            "_model_module": "@jupyter-widgets/controls",
            "_model_module_version": "1.5.0",
            "_model_name": "HBoxModel",
            "_view_count": null,
            "_view_module": "@jupyter-widgets/controls",
            "_view_module_version": "1.5.0",
            "_view_name": "HBoxView",
            "box_style": "",
            "children": [
              "IPY_MODEL_80b3d3840245423ba31f2615ee17e53a",
              "IPY_MODEL_4aa02a392676467289e277aeed56afb9",
              "IPY_MODEL_fea138f843de40d0a3e769c7a30a9d2e"
            ],
            "layout": "IPY_MODEL_0c3f43983b644bd3a9292a78212b402f"
          }
        },
        "80b3d3840245423ba31f2615ee17e53a": {
          "model_module": "@jupyter-widgets/controls",
          "model_name": "HTMLModel",
          "model_module_version": "1.5.0",
          "state": {
            "_dom_classes": [],
            "_model_module": "@jupyter-widgets/controls",
            "_model_module_version": "1.5.0",
            "_model_name": "HTMLModel",
            "_view_count": null,
            "_view_module": "@jupyter-widgets/controls",
            "_view_module_version": "1.5.0",
            "_view_name": "HTMLView",
            "description": "",
            "description_tooltip": null,
            "layout": "IPY_MODEL_b74724c5131b4634bebd64fb530b6203",
            "placeholder": "​",
            "style": "IPY_MODEL_c0f000ab68c9484daf7ad7c6aeed5214",
            "value": "vocab.txt: 100%"
          }
        },
        "4aa02a392676467289e277aeed56afb9": {
          "model_module": "@jupyter-widgets/controls",
          "model_name": "FloatProgressModel",
          "model_module_version": "1.5.0",
          "state": {
            "_dom_classes": [],
            "_model_module": "@jupyter-widgets/controls",
            "_model_module_version": "1.5.0",
            "_model_name": "FloatProgressModel",
            "_view_count": null,
            "_view_module": "@jupyter-widgets/controls",
            "_view_module_version": "1.5.0",
            "_view_name": "ProgressView",
            "bar_style": "success",
            "description": "",
            "description_tooltip": null,
            "layout": "IPY_MODEL_d3fd3134c8da4c2eafb0826f91eaa0a9",
            "max": 231508,
            "min": 0,
            "orientation": "horizontal",
            "style": "IPY_MODEL_7074c9143e5d42b69af73f901a0134cd",
            "value": 231508
          }
        },
        "fea138f843de40d0a3e769c7a30a9d2e": {
          "model_module": "@jupyter-widgets/controls",
          "model_name": "HTMLModel",
          "model_module_version": "1.5.0",
          "state": {
            "_dom_classes": [],
            "_model_module": "@jupyter-widgets/controls",
            "_model_module_version": "1.5.0",
            "_model_name": "HTMLModel",
            "_view_count": null,
            "_view_module": "@jupyter-widgets/controls",
            "_view_module_version": "1.5.0",
            "_view_name": "HTMLView",
            "description": "",
            "description_tooltip": null,
            "layout": "IPY_MODEL_4ae98f4b0e904694b659b97d515e7ca3",
            "placeholder": "​",
            "style": "IPY_MODEL_0046c0fba3e84c1a9b78f8f402be9533",
            "value": " 232k/232k [00:00&lt;00:00, 4.49MB/s]"
          }
        },
        "0c3f43983b644bd3a9292a78212b402f": {
          "model_module": "@jupyter-widgets/base",
          "model_name": "LayoutModel",
          "model_module_version": "1.2.0",
          "state": {
            "_model_module": "@jupyter-widgets/base",
            "_model_module_version": "1.2.0",
            "_model_name": "LayoutModel",
            "_view_count": null,
            "_view_module": "@jupyter-widgets/base",
            "_view_module_version": "1.2.0",
            "_view_name": "LayoutView",
            "align_content": null,
            "align_items": null,
            "align_self": null,
            "border": null,
            "bottom": null,
            "display": null,
            "flex": null,
            "flex_flow": null,
            "grid_area": null,
            "grid_auto_columns": null,
            "grid_auto_flow": null,
            "grid_auto_rows": null,
            "grid_column": null,
            "grid_gap": null,
            "grid_row": null,
            "grid_template_areas": null,
            "grid_template_columns": null,
            "grid_template_rows": null,
            "height": null,
            "justify_content": null,
            "justify_items": null,
            "left": null,
            "margin": null,
            "max_height": null,
            "max_width": null,
            "min_height": null,
            "min_width": null,
            "object_fit": null,
            "object_position": null,
            "order": null,
            "overflow": null,
            "overflow_x": null,
            "overflow_y": null,
            "padding": null,
            "right": null,
            "top": null,
            "visibility": null,
            "width": null
          }
        },
        "b74724c5131b4634bebd64fb530b6203": {
          "model_module": "@jupyter-widgets/base",
          "model_name": "LayoutModel",
          "model_module_version": "1.2.0",
          "state": {
            "_model_module": "@jupyter-widgets/base",
            "_model_module_version": "1.2.0",
            "_model_name": "LayoutModel",
            "_view_count": null,
            "_view_module": "@jupyter-widgets/base",
            "_view_module_version": "1.2.0",
            "_view_name": "LayoutView",
            "align_content": null,
            "align_items": null,
            "align_self": null,
            "border": null,
            "bottom": null,
            "display": null,
            "flex": null,
            "flex_flow": null,
            "grid_area": null,
            "grid_auto_columns": null,
            "grid_auto_flow": null,
            "grid_auto_rows": null,
            "grid_column": null,
            "grid_gap": null,
            "grid_row": null,
            "grid_template_areas": null,
            "grid_template_columns": null,
            "grid_template_rows": null,
            "height": null,
            "justify_content": null,
            "justify_items": null,
            "left": null,
            "margin": null,
            "max_height": null,
            "max_width": null,
            "min_height": null,
            "min_width": null,
            "object_fit": null,
            "object_position": null,
            "order": null,
            "overflow": null,
            "overflow_x": null,
            "overflow_y": null,
            "padding": null,
            "right": null,
            "top": null,
            "visibility": null,
            "width": null
          }
        },
        "c0f000ab68c9484daf7ad7c6aeed5214": {
          "model_module": "@jupyter-widgets/controls",
          "model_name": "DescriptionStyleModel",
          "model_module_version": "1.5.0",
          "state": {
            "_model_module": "@jupyter-widgets/controls",
            "_model_module_version": "1.5.0",
            "_model_name": "DescriptionStyleModel",
            "_view_count": null,
            "_view_module": "@jupyter-widgets/base",
            "_view_module_version": "1.2.0",
            "_view_name": "StyleView",
            "description_width": ""
          }
        },
        "d3fd3134c8da4c2eafb0826f91eaa0a9": {
          "model_module": "@jupyter-widgets/base",
          "model_name": "LayoutModel",
          "model_module_version": "1.2.0",
          "state": {
            "_model_module": "@jupyter-widgets/base",
            "_model_module_version": "1.2.0",
            "_model_name": "LayoutModel",
            "_view_count": null,
            "_view_module": "@jupyter-widgets/base",
            "_view_module_version": "1.2.0",
            "_view_name": "LayoutView",
            "align_content": null,
            "align_items": null,
            "align_self": null,
            "border": null,
            "bottom": null,
            "display": null,
            "flex": null,
            "flex_flow": null,
            "grid_area": null,
            "grid_auto_columns": null,
            "grid_auto_flow": null,
            "grid_auto_rows": null,
            "grid_column": null,
            "grid_gap": null,
            "grid_row": null,
            "grid_template_areas": null,
            "grid_template_columns": null,
            "grid_template_rows": null,
            "height": null,
            "justify_content": null,
            "justify_items": null,
            "left": null,
            "margin": null,
            "max_height": null,
            "max_width": null,
            "min_height": null,
            "min_width": null,
            "object_fit": null,
            "object_position": null,
            "order": null,
            "overflow": null,
            "overflow_x": null,
            "overflow_y": null,
            "padding": null,
            "right": null,
            "top": null,
            "visibility": null,
            "width": null
          }
        },
        "7074c9143e5d42b69af73f901a0134cd": {
          "model_module": "@jupyter-widgets/controls",
          "model_name": "ProgressStyleModel",
          "model_module_version": "1.5.0",
          "state": {
            "_model_module": "@jupyter-widgets/controls",
            "_model_module_version": "1.5.0",
            "_model_name": "ProgressStyleModel",
            "_view_count": null,
            "_view_module": "@jupyter-widgets/base",
            "_view_module_version": "1.2.0",
            "_view_name": "StyleView",
            "bar_color": null,
            "description_width": ""
          }
        },
        "4ae98f4b0e904694b659b97d515e7ca3": {
          "model_module": "@jupyter-widgets/base",
          "model_name": "LayoutModel",
          "model_module_version": "1.2.0",
          "state": {
            "_model_module": "@jupyter-widgets/base",
            "_model_module_version": "1.2.0",
            "_model_name": "LayoutModel",
            "_view_count": null,
            "_view_module": "@jupyter-widgets/base",
            "_view_module_version": "1.2.0",
            "_view_name": "LayoutView",
            "align_content": null,
            "align_items": null,
            "align_self": null,
            "border": null,
            "bottom": null,
            "display": null,
            "flex": null,
            "flex_flow": null,
            "grid_area": null,
            "grid_auto_columns": null,
            "grid_auto_flow": null,
            "grid_auto_rows": null,
            "grid_column": null,
            "grid_gap": null,
            "grid_row": null,
            "grid_template_areas": null,
            "grid_template_columns": null,
            "grid_template_rows": null,
            "height": null,
            "justify_content": null,
            "justify_items": null,
            "left": null,
            "margin": null,
            "max_height": null,
            "max_width": null,
            "min_height": null,
            "min_width": null,
            "object_fit": null,
            "object_position": null,
            "order": null,
            "overflow": null,
            "overflow_x": null,
            "overflow_y": null,
            "padding": null,
            "right": null,
            "top": null,
            "visibility": null,
            "width": null
          }
        },
        "0046c0fba3e84c1a9b78f8f402be9533": {
          "model_module": "@jupyter-widgets/controls",
          "model_name": "DescriptionStyleModel",
          "model_module_version": "1.5.0",
          "state": {
            "_model_module": "@jupyter-widgets/controls",
            "_model_module_version": "1.5.0",
            "_model_name": "DescriptionStyleModel",
            "_view_count": null,
            "_view_module": "@jupyter-widgets/base",
            "_view_module_version": "1.2.0",
            "_view_name": "StyleView",
            "description_width": ""
          }
        },
        "2638c7fe87a04674953b00a21e669cf7": {
          "model_module": "@jupyter-widgets/controls",
          "model_name": "HBoxModel",
          "model_module_version": "1.5.0",
          "state": {
            "_dom_classes": [],
            "_model_module": "@jupyter-widgets/controls",
            "_model_module_version": "1.5.0",
            "_model_name": "HBoxModel",
            "_view_count": null,
            "_view_module": "@jupyter-widgets/controls",
            "_view_module_version": "1.5.0",
            "_view_name": "HBoxView",
            "box_style": "",
            "children": [
              "IPY_MODEL_809dd8c1b4014f93a5111e161d61695d",
              "IPY_MODEL_81a4233a6ee6484e94436fb4a1f1a2bb",
              "IPY_MODEL_e17265226d5e4fa29e9b17582528ccc2"
            ],
            "layout": "IPY_MODEL_40156efaee2444cfac0272bbfc0be8db"
          }
        },
        "809dd8c1b4014f93a5111e161d61695d": {
          "model_module": "@jupyter-widgets/controls",
          "model_name": "HTMLModel",
          "model_module_version": "1.5.0",
          "state": {
            "_dom_classes": [],
            "_model_module": "@jupyter-widgets/controls",
            "_model_module_version": "1.5.0",
            "_model_name": "HTMLModel",
            "_view_count": null,
            "_view_module": "@jupyter-widgets/controls",
            "_view_module_version": "1.5.0",
            "_view_name": "HTMLView",
            "description": "",
            "description_tooltip": null,
            "layout": "IPY_MODEL_3a03067283584dfca37cd5dfd84e7174",
            "placeholder": "​",
            "style": "IPY_MODEL_c77abcbef9ea4458ae7db8bed7c2fe7c",
            "value": "tokenizer.json: 100%"
          }
        },
        "81a4233a6ee6484e94436fb4a1f1a2bb": {
          "model_module": "@jupyter-widgets/controls",
          "model_name": "FloatProgressModel",
          "model_module_version": "1.5.0",
          "state": {
            "_dom_classes": [],
            "_model_module": "@jupyter-widgets/controls",
            "_model_module_version": "1.5.0",
            "_model_name": "FloatProgressModel",
            "_view_count": null,
            "_view_module": "@jupyter-widgets/controls",
            "_view_module_version": "1.5.0",
            "_view_name": "ProgressView",
            "bar_style": "success",
            "description": "",
            "description_tooltip": null,
            "layout": "IPY_MODEL_c24ecc06ed984002b29529557e0ce190",
            "max": 466062,
            "min": 0,
            "orientation": "horizontal",
            "style": "IPY_MODEL_532b57d2d7934739a0c7b614651b7f26",
            "value": 466062
          }
        },
        "e17265226d5e4fa29e9b17582528ccc2": {
          "model_module": "@jupyter-widgets/controls",
          "model_name": "HTMLModel",
          "model_module_version": "1.5.0",
          "state": {
            "_dom_classes": [],
            "_model_module": "@jupyter-widgets/controls",
            "_model_module_version": "1.5.0",
            "_model_name": "HTMLModel",
            "_view_count": null,
            "_view_module": "@jupyter-widgets/controls",
            "_view_module_version": "1.5.0",
            "_view_name": "HTMLView",
            "description": "",
            "description_tooltip": null,
            "layout": "IPY_MODEL_508ed27869e841e99bcb0a24ddcb7ec4",
            "placeholder": "​",
            "style": "IPY_MODEL_403bcbe87f054d729f94f1a05657b256",
            "value": " 466k/466k [00:00&lt;00:00, 19.4MB/s]"
          }
        },
        "40156efaee2444cfac0272bbfc0be8db": {
          "model_module": "@jupyter-widgets/base",
          "model_name": "LayoutModel",
          "model_module_version": "1.2.0",
          "state": {
            "_model_module": "@jupyter-widgets/base",
            "_model_module_version": "1.2.0",
            "_model_name": "LayoutModel",
            "_view_count": null,
            "_view_module": "@jupyter-widgets/base",
            "_view_module_version": "1.2.0",
            "_view_name": "LayoutView",
            "align_content": null,
            "align_items": null,
            "align_self": null,
            "border": null,
            "bottom": null,
            "display": null,
            "flex": null,
            "flex_flow": null,
            "grid_area": null,
            "grid_auto_columns": null,
            "grid_auto_flow": null,
            "grid_auto_rows": null,
            "grid_column": null,
            "grid_gap": null,
            "grid_row": null,
            "grid_template_areas": null,
            "grid_template_columns": null,
            "grid_template_rows": null,
            "height": null,
            "justify_content": null,
            "justify_items": null,
            "left": null,
            "margin": null,
            "max_height": null,
            "max_width": null,
            "min_height": null,
            "min_width": null,
            "object_fit": null,
            "object_position": null,
            "order": null,
            "overflow": null,
            "overflow_x": null,
            "overflow_y": null,
            "padding": null,
            "right": null,
            "top": null,
            "visibility": null,
            "width": null
          }
        },
        "3a03067283584dfca37cd5dfd84e7174": {
          "model_module": "@jupyter-widgets/base",
          "model_name": "LayoutModel",
          "model_module_version": "1.2.0",
          "state": {
            "_model_module": "@jupyter-widgets/base",
            "_model_module_version": "1.2.0",
            "_model_name": "LayoutModel",
            "_view_count": null,
            "_view_module": "@jupyter-widgets/base",
            "_view_module_version": "1.2.0",
            "_view_name": "LayoutView",
            "align_content": null,
            "align_items": null,
            "align_self": null,
            "border": null,
            "bottom": null,
            "display": null,
            "flex": null,
            "flex_flow": null,
            "grid_area": null,
            "grid_auto_columns": null,
            "grid_auto_flow": null,
            "grid_auto_rows": null,
            "grid_column": null,
            "grid_gap": null,
            "grid_row": null,
            "grid_template_areas": null,
            "grid_template_columns": null,
            "grid_template_rows": null,
            "height": null,
            "justify_content": null,
            "justify_items": null,
            "left": null,
            "margin": null,
            "max_height": null,
            "max_width": null,
            "min_height": null,
            "min_width": null,
            "object_fit": null,
            "object_position": null,
            "order": null,
            "overflow": null,
            "overflow_x": null,
            "overflow_y": null,
            "padding": null,
            "right": null,
            "top": null,
            "visibility": null,
            "width": null
          }
        },
        "c77abcbef9ea4458ae7db8bed7c2fe7c": {
          "model_module": "@jupyter-widgets/controls",
          "model_name": "DescriptionStyleModel",
          "model_module_version": "1.5.0",
          "state": {
            "_model_module": "@jupyter-widgets/controls",
            "_model_module_version": "1.5.0",
            "_model_name": "DescriptionStyleModel",
            "_view_count": null,
            "_view_module": "@jupyter-widgets/base",
            "_view_module_version": "1.2.0",
            "_view_name": "StyleView",
            "description_width": ""
          }
        },
        "c24ecc06ed984002b29529557e0ce190": {
          "model_module": "@jupyter-widgets/base",
          "model_name": "LayoutModel",
          "model_module_version": "1.2.0",
          "state": {
            "_model_module": "@jupyter-widgets/base",
            "_model_module_version": "1.2.0",
            "_model_name": "LayoutModel",
            "_view_count": null,
            "_view_module": "@jupyter-widgets/base",
            "_view_module_version": "1.2.0",
            "_view_name": "LayoutView",
            "align_content": null,
            "align_items": null,
            "align_self": null,
            "border": null,
            "bottom": null,
            "display": null,
            "flex": null,
            "flex_flow": null,
            "grid_area": null,
            "grid_auto_columns": null,
            "grid_auto_flow": null,
            "grid_auto_rows": null,
            "grid_column": null,
            "grid_gap": null,
            "grid_row": null,
            "grid_template_areas": null,
            "grid_template_columns": null,
            "grid_template_rows": null,
            "height": null,
            "justify_content": null,
            "justify_items": null,
            "left": null,
            "margin": null,
            "max_height": null,
            "max_width": null,
            "min_height": null,
            "min_width": null,
            "object_fit": null,
            "object_position": null,
            "order": null,
            "overflow": null,
            "overflow_x": null,
            "overflow_y": null,
            "padding": null,
            "right": null,
            "top": null,
            "visibility": null,
            "width": null
          }
        },
        "532b57d2d7934739a0c7b614651b7f26": {
          "model_module": "@jupyter-widgets/controls",
          "model_name": "ProgressStyleModel",
          "model_module_version": "1.5.0",
          "state": {
            "_model_module": "@jupyter-widgets/controls",
            "_model_module_version": "1.5.0",
            "_model_name": "ProgressStyleModel",
            "_view_count": null,
            "_view_module": "@jupyter-widgets/base",
            "_view_module_version": "1.2.0",
            "_view_name": "StyleView",
            "bar_color": null,
            "description_width": ""
          }
        },
        "508ed27869e841e99bcb0a24ddcb7ec4": {
          "model_module": "@jupyter-widgets/base",
          "model_name": "LayoutModel",
          "model_module_version": "1.2.0",
          "state": {
            "_model_module": "@jupyter-widgets/base",
            "_model_module_version": "1.2.0",
            "_model_name": "LayoutModel",
            "_view_count": null,
            "_view_module": "@jupyter-widgets/base",
            "_view_module_version": "1.2.0",
            "_view_name": "LayoutView",
            "align_content": null,
            "align_items": null,
            "align_self": null,
            "border": null,
            "bottom": null,
            "display": null,
            "flex": null,
            "flex_flow": null,
            "grid_area": null,
            "grid_auto_columns": null,
            "grid_auto_flow": null,
            "grid_auto_rows": null,
            "grid_column": null,
            "grid_gap": null,
            "grid_row": null,
            "grid_template_areas": null,
            "grid_template_columns": null,
            "grid_template_rows": null,
            "height": null,
            "justify_content": null,
            "justify_items": null,
            "left": null,
            "margin": null,
            "max_height": null,
            "max_width": null,
            "min_height": null,
            "min_width": null,
            "object_fit": null,
            "object_position": null,
            "order": null,
            "overflow": null,
            "overflow_x": null,
            "overflow_y": null,
            "padding": null,
            "right": null,
            "top": null,
            "visibility": null,
            "width": null
          }
        },
        "403bcbe87f054d729f94f1a05657b256": {
          "model_module": "@jupyter-widgets/controls",
          "model_name": "DescriptionStyleModel",
          "model_module_version": "1.5.0",
          "state": {
            "_model_module": "@jupyter-widgets/controls",
            "_model_module_version": "1.5.0",
            "_model_name": "DescriptionStyleModel",
            "_view_count": null,
            "_view_module": "@jupyter-widgets/base",
            "_view_module_version": "1.2.0",
            "_view_name": "StyleView",
            "description_width": ""
          }
        }
      }
    }
  },
  "nbformat": 4,
  "nbformat_minor": 5
}