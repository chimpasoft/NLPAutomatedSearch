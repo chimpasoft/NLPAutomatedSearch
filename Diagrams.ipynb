{
 "cells": [
  {
   "cell_type": "code",
   "execution_count": 1,
   "id": "b2d18ea9",
   "metadata": {},
   "outputs": [
    {
     "name": "stdout",
     "output_type": "stream",
     "text": [
      "Collecting graphviz\n",
      "  Downloading graphviz-0.20.1-py3-none-any.whl.metadata (12 kB)\n",
      "Requirement already satisfied: matplotlib in /Library/Frameworks/Python.framework/Versions/3.7/lib/python3.7/site-packages (3.5.3)\n",
      "Requirement already satisfied: cycler>=0.10 in /Library/Frameworks/Python.framework/Versions/3.7/lib/python3.7/site-packages (from matplotlib) (0.11.0)\n",
      "Requirement already satisfied: fonttools>=4.22.0 in /Library/Frameworks/Python.framework/Versions/3.7/lib/python3.7/site-packages (from matplotlib) (4.38.0)\n",
      "Requirement already satisfied: kiwisolver>=1.0.1 in /Library/Frameworks/Python.framework/Versions/3.7/lib/python3.7/site-packages (from matplotlib) (1.4.4)\n",
      "Requirement already satisfied: numpy>=1.17 in /Library/Frameworks/Python.framework/Versions/3.7/lib/python3.7/site-packages (from matplotlib) (1.21.6)\n",
      "Requirement already satisfied: packaging>=20.0 in /Library/Frameworks/Python.framework/Versions/3.7/lib/python3.7/site-packages (from matplotlib) (23.1)\n",
      "Requirement already satisfied: pillow>=6.2.0 in /Library/Frameworks/Python.framework/Versions/3.7/lib/python3.7/site-packages (from matplotlib) (9.5.0)\n",
      "Requirement already satisfied: pyparsing>=2.2.1 in /Library/Frameworks/Python.framework/Versions/3.7/lib/python3.7/site-packages (from matplotlib) (3.1.0)\n",
      "Requirement already satisfied: python-dateutil>=2.7 in /Library/Frameworks/Python.framework/Versions/3.7/lib/python3.7/site-packages (from matplotlib) (2.8.2)\n",
      "Requirement already satisfied: typing-extensions in /Library/Frameworks/Python.framework/Versions/3.7/lib/python3.7/site-packages (from kiwisolver>=1.0.1->matplotlib) (4.7.1)\n",
      "Requirement already satisfied: six>=1.5 in /Library/Frameworks/Python.framework/Versions/3.7/lib/python3.7/site-packages (from python-dateutil>=2.7->matplotlib) (1.16.0)\n",
      "Downloading graphviz-0.20.1-py3-none-any.whl (47 kB)\n",
      "\u001b[2K   \u001b[90m━━━━━━━━━━━━━━━━━━━━━━━━━━━━━━━━━━━━━━━━\u001b[0m \u001b[32m47.0/47.0 kB\u001b[0m \u001b[31m1.2 MB/s\u001b[0m eta \u001b[36m0:00:00\u001b[0m\n",
      "\u001b[?25hInstalling collected packages: graphviz\n",
      "Successfully installed graphviz-0.20.1\n",
      "Note: you may need to restart the kernel to use updated packages.\n"
     ]
    }
   ],
   "source": [
    "pip install graphviz matplotlib"
   ]
  },
  {
   "cell_type": "code",
   "execution_count": 5,
   "id": "ff79af76",
   "metadata": {},
   "outputs": [
    {
     "name": "stdout",
     "output_type": "stream",
     "text": [
      "Horizontal System Architecture Diagram generated.\n"
     ]
    }
   ],
   "source": [
    "from graphviz import Digraph\n",
    "\n",
    "# Horizontal System Architecture Diagram\n",
    "dot = Digraph(comment='System Architecture Diagram', format=\"png\", engine=\"dot\")\n",
    "\n",
    "# Define Nodes with Different Shapes\n",
    "dot.node('A', 'Data Input', shape='parallelogram')  # Input node\n",
    "dot.node('B', 'Preprocessing', shape='rectangle')   # Preprocessing\n",
    "dot.node('C', 'Keyword Extraction', shape='ellipse')  # Extraction\n",
    "dot.node('D', 'Search Strategy Generation', shape='rectangle')  # Query Generation\n",
    "dot.node('E', 'Output: Search Queries', shape='parallelogram')  # Output node\n",
    "\n",
    "# Add Horizontal Edges\n",
    "dot.attr(rankdir='LR')  # Left-to-right orientation\n",
    "dot.edges(['AB', 'BC', 'CD', 'DE'])\n",
    "\n",
    "# Render Diagram\n",
    "dot.render('horizontal_system_architecture', cleanup=True)\n",
    "print(\"Horizontal System Architecture Diagram generated.\")\n",
    "\n"
   ]
  },
  {
   "cell_type": "code",
   "execution_count": 6,
   "id": "6b505e4d",
   "metadata": {},
   "outputs": [
    {
     "name": "stdout",
     "output_type": "stream",
     "text": [
      "Horizontal Workflow Pipeline Diagram generated.\n"
     ]
    }
   ],
   "source": [
    "from graphviz import Digraph\n",
    "\n",
    "# Horizontal Workflow Diagram\n",
    "dot = Digraph(comment='Workflow Pipeline', format=\"png\", engine=\"dot\")\n",
    "\n",
    "# Define Nodes with Different Shapes\n",
    "dot.node('1', 'Tokenization', shape='rectangle')\n",
    "dot.node('2', 'Stop-word Removal', shape='ellipse')\n",
    "dot.node('3', 'Lemmatization', shape='rectangle')\n",
    "dot.node('4', 'Named Entity Recognition (NER)', shape='ellipse')\n",
    "dot.node('5', 'TF-IDF Keyword Extraction', shape='rectangle')\n",
    "dot.node('6', 'Semantic Matching (BERT)', shape='ellipse')\n",
    "dot.node('7', 'Rank and Structure Keywords', shape='rectangle')\n",
    "\n",
    "# Horizontal Flow\n",
    "dot.attr(rankdir='LR')  # Left-to-right layout\n",
    "dot.edges(['12', '23', '34', '45', '56', '67'])\n",
    "\n",
    "# Render Diagram\n",
    "dot.render('horizontal_workflow_pipeline', cleanup=True)\n",
    "print(\"Horizontal Workflow Pipeline Diagram generated.\")\n",
    "\n"
   ]
  },
  {
   "cell_type": "code",
   "execution_count": 10,
   "id": "5276b4fc",
   "metadata": {},
   "outputs": [
    {
     "name": "stdout",
     "output_type": "stream",
     "text": [
      "Horizontal Data Flow Diagram generated successfully.\n"
     ]
    }
   ],
   "source": [
    "from graphviz import Digraph\n",
    "\n",
    "# Horizontal Data Flow Diagram\n",
    "dot = Digraph(comment='Data Flow Diagram', format=\"png\", engine=\"dot\")\n",
    "\n",
    "# Define Nodes\n",
    "dot.node('Input', 'Job Descriptions\\n(Raw Data)', shape='parallelogram')\n",
    "dot.node('Preprocess', 'Text Preprocessing\\n(Tokenization, Cleaning)', shape='rectangle')\n",
    "dot.node('NER', 'Entity Recognition\\n(spaCy)', shape='ellipse')\n",
    "dot.node('TFIDF', 'TF-IDF\\nKeyword Extraction', shape='rectangle')\n",
    "dot.node('BERT', 'BERT-based Semantic Matching', shape='ellipse')\n",
    "dot.node('Output', 'Optimized Search Queries', shape='parallelogram')\n",
    "\n",
    "# Left-to-right Layout\n",
    "dot.attr(rankdir='LR')\n",
    "\n",
    "# Add Flow Connections as Tuples\n",
    "dot.edges([\n",
    "    ('Input', 'Preprocess'),\n",
    "    ('Preprocess', 'NER'),\n",
    "    ('NER', 'BERT'),\n",
    "    ('NER', 'TFIDF'),\n",
    "    ('TFIDF', 'Output'),\n",
    "    ('BERT', 'Output')\n",
    "])\n",
    "\n",
    "# Render Diagram\n",
    "dot.render('horizontal_data_flow', cleanup=True)\n",
    "print(\"Horizontal Data Flow Diagram generated successfully.\")\n",
    "\n"
   ]
  },
  {
   "cell_type": "code",
   "execution_count": 9,
   "id": "846ecf0a",
   "metadata": {},
   "outputs": [
    {
     "name": "stdout",
     "output_type": "stream",
     "text": [
      "Evaluation Pipeline Diagram generated.\n"
     ]
    }
   ],
   "source": [
    "from graphviz import Digraph\n",
    "\n",
    "# Evaluation Pipeline Diagram\n",
    "dot = Digraph(comment='Evaluation Pipeline', format=\"png\", engine=\"dot\")\n",
    "\n",
    "# Define Nodes\n",
    "dot.node('A', 'Generated Search Queries', shape='parallelogram')\n",
    "dot.node('B', 'Precision Evaluation', shape='ellipse')\n",
    "dot.node('C', 'Recall Evaluation', shape='ellipse')\n",
    "dot.node('D', 'F1-Score Calculation', shape='rectangle')\n",
    "dot.node('E', 'Baseline Comparison', shape='ellipse')\n",
    "dot.node('F', 'Performance Report', shape='parallelogram')\n",
    "\n",
    "# Horizontal Flow\n",
    "dot.attr(rankdir='LR')\n",
    "dot.edges(['AB', 'AC', 'BD', 'CD', 'DE', 'EF'])\n",
    "\n",
    "# Render Diagram\n",
    "dot.render('evaluation_pipeline', cleanup=True)\n",
    "print(\"Evaluation Pipeline Diagram generated.\")\n"
   ]
  },
  {
   "cell_type": "code",
   "execution_count": 11,
   "id": "6b02aef9",
   "metadata": {},
   "outputs": [
    {
     "ename": "ModuleNotFoundError",
     "evalue": "No module named 'kagglehub'",
     "output_type": "error",
     "traceback": [
      "\u001b[0;31m---------------------------------------------------------------------------\u001b[0m",
      "\u001b[0;31mModuleNotFoundError\u001b[0m                       Traceback (most recent call last)",
      "\u001b[0;32m/var/folders/g6/y270stmd4mng02vm3dcdn0880000gn/T/ipykernel_19620/3656154100.py\u001b[0m in \u001b[0;36m<module>\u001b[0;34m\u001b[0m\n\u001b[0;32m----> 1\u001b[0;31m \u001b[0;32mimport\u001b[0m \u001b[0mkagglehub\u001b[0m\u001b[0;34m\u001b[0m\u001b[0;34m\u001b[0m\u001b[0m\n\u001b[0m\u001b[1;32m      2\u001b[0m \u001b[0;34m\u001b[0m\u001b[0m\n\u001b[1;32m      3\u001b[0m \u001b[0;31m# Download latest version\u001b[0m\u001b[0;34m\u001b[0m\u001b[0;34m\u001b[0m\u001b[0;34m\u001b[0m\u001b[0m\n\u001b[1;32m      4\u001b[0m \u001b[0mpath\u001b[0m \u001b[0;34m=\u001b[0m \u001b[0mkagglehub\u001b[0m\u001b[0;34m.\u001b[0m\u001b[0mdataset_download\u001b[0m\u001b[0;34m(\u001b[0m\u001b[0;34m\"ravindrasinghrana/job-description-dataset\"\u001b[0m\u001b[0;34m)\u001b[0m\u001b[0;34m\u001b[0m\u001b[0;34m\u001b[0m\u001b[0m\n\u001b[1;32m      5\u001b[0m \u001b[0;34m\u001b[0m\u001b[0m\n",
      "\u001b[0;31mModuleNotFoundError\u001b[0m: No module named 'kagglehub'"
     ]
    }
   ],
   "source": [
    "import kagglehub\n",
    "\n",
    "# Download latest version\n",
    "path = kagglehub.dataset_download(\"ravindrasinghrana/job-description-dataset\")\n",
    "\n",
    "print(\"Path to dataset files:\", path)"
   ]
  }
 ],
 "metadata": {
  "kernelspec": {
   "display_name": "Python 3 (ipykernel)",
   "language": "python",
   "name": "python3"
  },
  "language_info": {
   "codemirror_mode": {
    "name": "ipython",
    "version": 3
   },
   "file_extension": ".py",
   "mimetype": "text/x-python",
   "name": "python",
   "nbconvert_exporter": "python",
   "pygments_lexer": "ipython3",
   "version": "3.7.4"
  }
 },
 "nbformat": 4,
 "nbformat_minor": 5
}
